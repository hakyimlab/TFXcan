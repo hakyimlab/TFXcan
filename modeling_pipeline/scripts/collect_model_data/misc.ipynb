{
 "cells": [
  {
   "cell_type": "code",
   "execution_count": null,
   "metadata": {},
   "outputs": [],
   "source": []
  },
  {
   "cell_type": "code",
   "execution_count": null,
   "metadata": {},
   "outputs": [],
   "source": []
  },
  {
   "cell_type": "code",
   "execution_count": 1,
   "metadata": {},
   "outputs": [],
   "source": [
    "def localParslConfig_threadpool(params):\n",
    " \n",
    "    import parsl\n",
    "    from parsl.executors import ThreadPoolExecutor\n",
    "    from parsl.config import Config\n",
    "\n",
    "    import os\n",
    "    workingdir = params['working_dir']\n",
    "    rundir = os.path.join(workingdir, 'runinfo')\n",
    "    parsl.clear()\n",
    "    local_tpex = Config(\n",
    "        executors=[\n",
    "            ThreadPoolExecutor(\n",
    "                label=\"tpex_Local\",\n",
    "                max_threads=8,\n",
    "                thread_name_prefix='tpex_run',\n",
    "                working_dir=workingdir,\n",
    "            )\n",
    "        ],\n",
    "        strategy=None,\n",
    "        run_dir=rundir\n",
    "    )\n",
    "\n",
    "    return(local_tpex)"
   ]
  },
  {
   "cell_type": "code",
   "execution_count": 2,
   "metadata": {},
   "outputs": [
    {
     "data": {
      "text/plain": [
       "4"
      ]
     },
     "execution_count": 2,
     "metadata": {},
     "output_type": "execute_result"
    }
   ],
   "source": [
    "2+2"
   ]
  },
  {
   "cell_type": "code",
   "execution_count": null,
   "metadata": {},
   "outputs": [],
   "source": []
  }
 ],
 "metadata": {
  "kernelspec": {
   "display_name": "dl-tools",
   "language": "python",
   "name": "python3"
  },
  "language_info": {
   "codemirror_mode": {
    "name": "ipython",
    "version": 3
   },
   "file_extension": ".py",
   "mimetype": "text/x-python",
   "name": "python",
   "nbconvert_exporter": "python",
   "pygments_lexer": "ipython3",
   "version": "3.10.6"
  },
  "orig_nbformat": 4,
  "vscode": {
   "interpreter": {
    "hash": "6dcac1a71ccad94eb769456e80f90aa894f3068a5275ffeae8fac07a2d93c97a"
   }
  }
 },
 "nbformat": 4,
 "nbformat_minor": 2
}
