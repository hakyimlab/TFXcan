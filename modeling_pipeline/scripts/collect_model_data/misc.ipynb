{
 "cells": [
  {
   "cell_type": "code",
   "execution_count": null,
   "metadata": {},
   "outputs": [],
   "source": []
  },
  {
   "cell_type": "code",
   "execution_count": 41,
   "metadata": {},
   "outputs": [],
   "source": [
    "import h5py\n",
    "import pandas as pd\n",
    "import numpy as np\n",
    "import os, sys, tqdm"
   ]
  },
  {
   "cell_type": "code",
   "execution_count": 35,
   "metadata": {},
   "outputs": [],
   "source": [
    "data_dir = '/grand/projects/covid-ct/imlab/users/temi/projects/TFXcan/enformer_pipeline/enformer_predictions/kawakami-reference'"
   ]
  },
  {
   "cell_type": "code",
   "execution_count": 54,
   "metadata": {},
   "outputs": [
    {
     "data": {
      "text/plain": [
       "(39954,\n",
       " ['neg_peak470228_predictions.h5',\n",
       "  'neg_peak405343_predictions.h5',\n",
       "  'pos_peak361823_predictions.h5',\n",
       "  'pos_peak271667_predictions.h5',\n",
       "  'pos_peak360679_predictions.h5'])"
      ]
     },
     "execution_count": 54,
     "metadata": {},
     "output_type": "execute_result"
    }
   ],
   "source": [
    "predictions_list = os.listdir(data_dir)\n",
    "len(predictions_list), predictions_list[0:5]"
   ]
  },
  {
   "cell_type": "code",
   "execution_count": 55,
   "metadata": {},
   "outputs": [],
   "source": [
    "def agg_by_center(pred_tracks, center=8):\n",
    "\n",
    "    y = []\n",
    "    X = []\n",
    "\n",
    "    for k, v in pred_tracks.items():\n",
    "        y.append(1) if k.startswith('pos') else y.append(0)\n",
    "        v = v[center, :]\n",
    "        v = np.expand_dims(v, axis=1).T\n",
    "        X.append(v)\n",
    "\n",
    "    y = np.expand_dims(np.array(y), axis=1)\n",
    "    dt = np.hstack((y, np.vstack(X)))\n",
    "\n",
    "    return dt"
   ]
  },
  {
   "cell_type": "code",
   "execution_count": 56,
   "metadata": {},
   "outputs": [
    {
     "name": "stderr",
     "output_type": "stream",
     "text": [
      "100%|██████████| 39954/39954 [35:24<00:00, 18.81it/s]  \n"
     ]
    }
   ],
   "source": [
    "training_predictions = {}\n",
    "\n",
    "for dt in tqdm.tqdm(predictions_list):\n",
    "    fle = f'{data_dir}/{dt}'\n",
    "    if os.path.isfile(fle):\n",
    "        with h5py.File(fle, 'r') as f:\n",
    "            filekey = list(f.keys())[0]\n",
    "            #print(filekey)\n",
    "            # should I select tracks? ; maybe not yet\n",
    "            #kk = 0 if dt.startswith('neg') else 1\n",
    "            training_predictions[dt] = np.vstack(list(f[filekey]))\n",
    "    else:\n",
    "        print('File does not exist')"
   ]
  },
  {
   "cell_type": "code",
   "execution_count": 57,
   "metadata": {},
   "outputs": [],
   "source": [
    "full_dt = pd.DataFrame(agg_by_center(training_predictions))"
   ]
  },
  {
   "cell_type": "code",
   "execution_count": 59,
   "metadata": {},
   "outputs": [
    {
     "data": {
      "text/plain": [
       "['f_5309', 'f_5310', 'f_5311', 'f_5312']"
      ]
     },
     "execution_count": 59,
     "metadata": {},
     "output_type": "execute_result"
    }
   ],
   "source": [
    "column_names = ['class']\n",
    "column_names.extend([f'f_{i}' for i in range(1, full_dt.shape[1])])\n",
    "column_names[0:5] ; column_names[-5:-1]"
   ]
  },
  {
   "cell_type": "code",
   "execution_count": 61,
   "metadata": {},
   "outputs": [
    {
     "name": "stderr",
     "output_type": "stream",
     "text": [
      "/tmp/ipykernel_22734/3853716067.py:1: FutureWarning: DataFrame.set_axis 'inplace' keyword is deprecated and will be removed in a future version. Use `obj = obj.set_axis(..., copy=False)` instead\n",
      "  ty = full_dt.set_axis(column_names, axis=1, inplace=False)\n"
     ]
    },
    {
     "data": {
      "text/html": [
       "<div>\n",
       "<style scoped>\n",
       "    .dataframe tbody tr th:only-of-type {\n",
       "        vertical-align: middle;\n",
       "    }\n",
       "\n",
       "    .dataframe tbody tr th {\n",
       "        vertical-align: top;\n",
       "    }\n",
       "\n",
       "    .dataframe thead th {\n",
       "        text-align: right;\n",
       "    }\n",
       "</style>\n",
       "<table border=\"1\" class=\"dataframe\">\n",
       "  <thead>\n",
       "    <tr style=\"text-align: right;\">\n",
       "      <th></th>\n",
       "      <th>f_5309</th>\n",
       "      <th>f_5310</th>\n",
       "      <th>f_5311</th>\n",
       "      <th>f_5312</th>\n",
       "    </tr>\n",
       "  </thead>\n",
       "  <tbody>\n",
       "    <tr>\n",
       "      <th>0</th>\n",
       "      <td>0.000139</td>\n",
       "      <td>0.000153</td>\n",
       "      <td>0.000294</td>\n",
       "      <td>0.000231</td>\n",
       "    </tr>\n",
       "    <tr>\n",
       "      <th>1</th>\n",
       "      <td>0.002689</td>\n",
       "      <td>0.006143</td>\n",
       "      <td>0.006855</td>\n",
       "      <td>0.020428</td>\n",
       "    </tr>\n",
       "    <tr>\n",
       "      <th>2</th>\n",
       "      <td>0.002295</td>\n",
       "      <td>0.004101</td>\n",
       "      <td>0.003856</td>\n",
       "      <td>0.023600</td>\n",
       "    </tr>\n",
       "    <tr>\n",
       "      <th>3</th>\n",
       "      <td>0.001199</td>\n",
       "      <td>0.001549</td>\n",
       "      <td>0.001981</td>\n",
       "      <td>0.022603</td>\n",
       "    </tr>\n",
       "    <tr>\n",
       "      <th>4</th>\n",
       "      <td>0.000623</td>\n",
       "      <td>0.001229</td>\n",
       "      <td>0.002692</td>\n",
       "      <td>0.006986</td>\n",
       "    </tr>\n",
       "  </tbody>\n",
       "</table>\n",
       "</div>"
      ],
      "text/plain": [
       "     f_5309    f_5310    f_5311    f_5312\n",
       "0  0.000139  0.000153  0.000294  0.000231\n",
       "1  0.002689  0.006143  0.006855  0.020428\n",
       "2  0.002295  0.004101  0.003856  0.023600\n",
       "3  0.001199  0.001549  0.001981  0.022603\n",
       "4  0.000623  0.001229  0.002692  0.006986"
      ]
     },
     "execution_count": 61,
     "metadata": {},
     "output_type": "execute_result"
    }
   ],
   "source": [
    "ty = full_dt.set_axis(column_names, axis=1, inplace=False)\n",
    "ty.iloc[0:5, -5:-1]\n",
    "#"
   ]
  },
  {
   "cell_type": "code",
   "execution_count": 63,
   "metadata": {},
   "outputs": [],
   "source": [
    "save_dir = '/lus/grand/projects/covid-ct/imlab/users/temi/projects/TFXcan/modeling_pipeline/data/train-test-val/kawakami/data_2022-12-12'\n",
    "id = 'kawakami_aggByCenter_FOXA1_old'"
   ]
  },
  {
   "cell_type": "code",
   "execution_count": 64,
   "metadata": {},
   "outputs": [],
   "source": [
    "ty.to_csv(path_or_buf=f'{save_dir}/{id}.csv.gz', index=False, compression='gzip')"
   ]
  },
  {
   "cell_type": "code",
   "execution_count": 67,
   "metadata": {},
   "outputs": [
    {
     "data": {
      "text/plain": [
       "0.0    20000\n",
       "1.0    19954\n",
       "Name: class, dtype: int64"
      ]
     },
     "execution_count": 67,
     "metadata": {},
     "output_type": "execute_result"
    }
   ],
   "source": [
    "ty['class'].value_counts()"
   ]
  },
  {
   "cell_type": "code",
   "execution_count": null,
   "metadata": {},
   "outputs": [],
   "source": [
    "print(f'[INFO] Finished collecting {len(freedman_predictions)} predictions for {each_individual}')\n",
    "\n",
    "dt_aggbycenter = agg_by_center(freedman_predictions, center=8)\n",
    "data_list = [dt_aggbycenter]"
   ]
  },
  {
   "cell_type": "code",
   "execution_count": null,
   "metadata": {},
   "outputs": [],
   "source": []
  },
  {
   "cell_type": "code",
   "execution_count": null,
   "metadata": {},
   "outputs": [],
   "source": []
  }
 ],
 "metadata": {
  "kernelspec": {
   "display_name": "dl-tools",
   "language": "python",
   "name": "python3"
  },
  "language_info": {
   "codemirror_mode": {
    "name": "ipython",
    "version": 3
   },
   "file_extension": ".py",
   "mimetype": "text/x-python",
   "name": "python",
   "nbconvert_exporter": "python",
   "pygments_lexer": "ipython3",
   "version": "3.10.6"
  },
  "orig_nbformat": 4,
  "vscode": {
   "interpreter": {
    "hash": "6dcac1a71ccad94eb769456e80f90aa894f3068a5275ffeae8fac07a2d93c97a"
   }
  }
 },
 "nbformat": 4,
 "nbformat_minor": 2
}
