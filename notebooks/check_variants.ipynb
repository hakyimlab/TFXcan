{
 "cells": [
  {
   "attachments": {},
   "cell_type": "markdown",
   "metadata": {},
   "source": [
    "### Usage: Confirm validity of reference sequences vs vcf files\n",
    "### Author: Temi\n",
    "### Date: Tues Jan 24 2023"
   ]
  },
  {
   "cell_type": "code",
   "execution_count": 1,
   "metadata": {},
   "outputs": [],
   "source": [
    "import os\n",
    "import numpy as np\n",
    "import cyvcf2\n",
    "import kipoiseq\n",
    "import pandas as pd\n",
    "import multiprocessing\n",
    "import subprocess"
   ]
  },
  {
   "cell_type": "code",
   "execution_count": 2,
   "metadata": {},
   "outputs": [],
   "source": [
    "working_dir = '/grand/covid-ct/imlab/users/temi/projects/TFXcan/scripts/'\n",
    "os.chdir(working_dir)"
   ]
  },
  {
   "cell_type": "code",
   "execution_count": 3,
   "metadata": {},
   "outputs": [],
   "source": [
    "reference_genome = '/grand/covid-ct/imlab/data/hg_sequences/hg38/Homo_sapiens_assembly38.fasta'\n",
    "vcf_file = '../genotypes/prj6_genotypes/merged_phased_SNPs.vcf.gz'"
   ]
  },
  {
   "attachments": {},
   "cell_type": "markdown",
   "metadata": {},
   "source": [
    "Use kipoiseq to read fasta file"
   ]
  },
  {
   "cell_type": "code",
   "execution_count": 4,
   "metadata": {},
   "outputs": [],
   "source": [
    "class FastaStringExtractor:\n",
    "    def __init__(self, fasta_file):\n",
    "        import pyfaidx\n",
    "\n",
    "        self.fasta = pyfaidx.Fasta(fasta_file)\n",
    "        self._chromosome_sizes = {k: len(v) for k, v in self.fasta.items()}\n",
    "\n",
    "    def extract(self, interval, **kwargs) -> str:\n",
    "        # Truncate interval if it extends beyond the chromosome lengths.\n",
    "\n",
    "        import kipoiseq\n",
    "        chromosome_length = self._chromosome_sizes[interval.chrom]\n",
    "        trimmed_interval = kipoiseq.Interval(interval.chrom,\n",
    "                                    max(interval.start, 0),\n",
    "                                    min(interval.end, chromosome_length),\n",
    "                                    )\n",
    "        # pyfaidx wants a 1-based interval\n",
    "        sequence = str(self.fasta.get_seq(trimmed_interval.chrom,\n",
    "                                            trimmed_interval.start + 1,\n",
    "                                            trimmed_interval.stop).seq).upper()\n",
    "        # Fill truncated values with N's.\n",
    "        pad_upstream = 'N' * max(-interval.start, 0)\n",
    "        pad_downstream = 'N' * max(interval.end - chromosome_length, 0)\n",
    "        return pad_upstream + sequence + pad_downstream\n",
    "\n",
    "    def close(self):\n",
    "        return self.fasta.close()"
   ]
  },
  {
   "cell_type": "code",
   "execution_count": 60,
   "metadata": {},
   "outputs": [],
   "source": [
    "fasta_extractor = FastaStringExtractor(reference_genome)"
   ]
  },
  {
   "attachments": {},
   "cell_type": "markdown",
   "metadata": {},
   "source": [
    "A short snippet"
   ]
  },
  {
   "cell_type": "code",
   "execution_count": 214,
   "metadata": {},
   "outputs": [],
   "source": [
    "region_chr = 'chr1'\n",
    "region_start = 100001\n",
    "region_end = 102009\n",
    "# region_chr = 'chr1'\n",
    "# region_start = 10000\n",
    "# region_end = 10001\n",
    "\n",
    "region_chr = 'chr5'\n",
    "region_start = 96701000\n",
    "region_end = 96701500\n",
    "SEQUENCE_LENGTH=len(range(region_start, region_end))"
   ]
  },
  {
   "cell_type": "code",
   "execution_count": 215,
   "metadata": {},
   "outputs": [
    {
     "data": {
      "text/plain": [
       "'ACTGCAACCTCCACCTTCCAGGTTCAAGCGATAATCCTGCCTGAAGCCTCCCGAGTAGCTGGGATTACAGGCAAGCACCACCGCACACAGCTAATGTTTGTATTTTTAGTAGAGACAGGGTTTCACCATGTTGCCCAGGCTGGTCTGGAACTCCTGAGCTCAGGTGATCCACTTGCCTCGGCCTCCCAAAGTGGTGGGATTACAGGCATGAGCCACCATGCCTGGCCAGAAAATTTGTTTTATAACCATGTGATTACTCATCTGTACTCATCAGGAGCACAGAAATACATTCAGAGATAGGCATCATTGAGCTGCCTAACTCTGGAAGCTGTGGGGCCCAGGGCCCATCCCTATGGGGTGTGGCCCAAATTAGTCACCCTGTGCTGTTTTTGTCACAGGAGAAATTAATGTCAGTGAAACCTAGATGAGCTTTTAGTCTATTTTTAAAAAGGAATGACAATACTAATGATCAACAACAACAACAAAAAGGGATATATAAG'"
      ]
     },
     "execution_count": 215,
     "metadata": {},
     "output_type": "execute_result"
    }
   ],
   "source": [
    "reg_interval = kipoiseq.Interval(region_chr, region_start, region_end).resize(SEQUENCE_LENGTH)\n",
    "reference_region = fasta_extractor.extract(interval=reg_interval, anchor=[])\n",
    "reference_region"
   ]
  },
  {
   "attachments": {},
   "cell_type": "markdown",
   "metadata": {},
   "source": [
    "## The experiment"
   ]
  },
  {
   "attachments": {},
   "cell_type": "markdown",
   "metadata": {},
   "source": [
    "Use cyvcf to extract vcf"
   ]
  },
  {
   "attachments": {},
   "cell_type": "markdown",
   "metadata": {},
   "source": [
    "There are currently about 11 million variants in this vcf file\n",
    "\n",
    "For this purpose of this notebook, I will use the top 1 million variants (for memory sake)"
   ]
  },
  {
   "cell_type": "code",
   "execution_count": 216,
   "metadata": {},
   "outputs": [],
   "source": [
    "#stop_at = 11000000\n",
    "# all_variants = []\n",
    "\n",
    "# for i, variant in enumerate(cyvcf2.cyvcf2.VCF(vcf_file)):\n",
    "#     if i > stop_at:\n",
    "#         break\n",
    "#     else:\n",
    "#         out = []\n",
    "#         out.extend([variant.CHROM, variant.start, variant.end, variant.REF, variant.ALT])\n",
    "#         all_variants.append(out)"
   ]
  },
  {
   "cell_type": "code",
   "execution_count": 217,
   "metadata": {},
   "outputs": [
    {
     "name": "stderr",
     "output_type": "stream",
     "text": [
      "[W::hts_idx_load3] The index file is older than the data file: ../genotypes/prj6_genotypes/merged_phased_SNPs.vcf.gz.tbi\n"
     ]
    }
   ],
   "source": [
    "samples = ['LuCaP_136', 'LuCaP_141']\n",
    "vcf_object = cyvcf2.cyvcf2.VCF(vcf_file, samples=samples)"
   ]
  },
  {
   "cell_type": "code",
   "execution_count": 218,
   "metadata": {},
   "outputs": [
    {
     "data": {
      "text/plain": [
       "'chr5:96701000-96701500'"
      ]
     },
     "execution_count": 218,
     "metadata": {},
     "output_type": "execute_result"
    }
   ],
   "source": [
    "query = f'{region_chr}:{region_start}-{region_end}'\n",
    "query"
   ]
  },
  {
   "cell_type": "code",
   "execution_count": 219,
   "metadata": {},
   "outputs": [
    {
     "name": "stderr",
     "output_type": "stream",
     "text": [
      "[W::hts_idx_load3] The index file is older than the data file: ../genotypes/prj6_genotypes/merged_phased_SNPs.vcf.gz.tbi\n"
     ]
    },
    {
     "data": {
      "text/plain": [
       "[['chr5', 96701090, 96701091, 'C', ['A'], array(['C|C', 'C|C'], dtype='<U3')]]"
      ]
     },
     "execution_count": 219,
     "metadata": {},
     "output_type": "execute_result"
    }
   ],
   "source": [
    "all_variants = []\n",
    "\n",
    "for i, variant in enumerate(vcf_object(query)):\n",
    "    out = []\n",
    "    out.extend([variant.CHROM, variant.start, variant.end, variant.REF, variant.ALT, variant.gt_bases])\n",
    "    all_variants.append(out)\n",
    "all_variants"
   ]
  },
  {
   "cell_type": "code",
   "execution_count": 220,
   "metadata": {},
   "outputs": [
    {
     "data": {
      "text/plain": [
       "['#CHROM     POS     ID     REF     ALT     QUAL     FILTER     INFO     FORMAT     LuCaP_136     LuCaP_141',\n",
       " 'chr5     96701091     .     C     A     .     .     AC=0;AF=0.0588235;CM=104.68;AN=4     GT     0|0     0|0']"
      ]
     },
     "execution_count": 220,
     "metadata": {},
     "output_type": "execute_result"
    }
   ],
   "source": [
    "cmd = f'bcftools view -r {query} -s {\",\".join(samples)} {vcf_file}'\n",
    "[re.sub('\\t', '     ', b) for b in subprocess.run(cmd, shell=True, capture_output=True).stdout.decode(\"utf-8\").split('\\n')[3383:-1]]"
   ]
  },
  {
   "attachments": {},
   "cell_type": "markdown",
   "metadata": {},
   "source": [
    "Here is what the output looks like ( I think it went over by one but it does not matter)"
   ]
  },
  {
   "cell_type": "code",
   "execution_count": 221,
   "metadata": {},
   "outputs": [
    {
     "data": {
      "text/plain": [
       "([['chr5',\n",
       "   96701090,\n",
       "   96701091,\n",
       "   'C',\n",
       "   ['A'],\n",
       "   array(['C|C', 'C|C'], dtype='<U3')]],\n",
       " 1)"
      ]
     },
     "execution_count": 221,
     "metadata": {},
     "output_type": "execute_result"
    }
   ],
   "source": [
    "all_variants[0:3], len(all_variants)"
   ]
  },
  {
   "attachments": {},
   "cell_type": "markdown",
   "metadata": {},
   "source": [
    "Extract the same regions from the reference genome"
   ]
  },
  {
   "cell_type": "code",
   "execution_count": 222,
   "metadata": {},
   "outputs": [
    {
     "data": {
      "text/plain": [
       "[['chr5', 96701090, 96701091]]"
      ]
     },
     "execution_count": 222,
     "metadata": {},
     "output_type": "execute_result"
    }
   ],
   "source": [
    "reference_variants_positions = [[v[0], v[1], v[2]] for v in all_variants]\n",
    "reference_variants_positions[0:5]"
   ]
  },
  {
   "cell_type": "code",
   "execution_count": 223,
   "metadata": {},
   "outputs": [
    {
     "data": {
      "text/plain": [
       "1"
      ]
     },
     "execution_count": 223,
     "metadata": {},
     "output_type": "execute_result"
    }
   ],
   "source": [
    "len(reference_variants_positions)"
   ]
  },
  {
   "cell_type": "code",
   "execution_count": 224,
   "metadata": {},
   "outputs": [],
   "source": [
    "reference_variants = []\n",
    "for vpos in reference_variants_positions:\n",
    "    slength = len(range(vpos[1], vpos[2]))\n",
    "    reg_interval = kipoiseq.Interval(vpos[0], vpos[1], vpos[2]).resize(slength)\n",
    "    reference_variant = fasta_extractor.extract(interval=reg_interval, anchor=[])\n",
    "    reference_variants.append(reference_variant)"
   ]
  },
  {
   "cell_type": "code",
   "execution_count": 225,
   "metadata": {},
   "outputs": [
    {
     "data": {
      "text/plain": [
       "['C']"
      ]
     },
     "execution_count": 225,
     "metadata": {},
     "output_type": "execute_result"
    }
   ],
   "source": [
    "reference_variants"
   ]
  },
  {
   "attachments": {},
   "cell_type": "markdown",
   "metadata": {},
   "source": [
    "Convert to a string"
   ]
  },
  {
   "cell_type": "code",
   "execution_count": 226,
   "metadata": {},
   "outputs": [
    {
     "data": {
      "text/plain": [
       "'C'"
      ]
     },
     "execution_count": 226,
     "metadata": {},
     "output_type": "execute_result"
    }
   ],
   "source": [
    "reference_variants = ''.join(reference_variants)\n",
    "reference_variants"
   ]
  },
  {
   "attachments": {},
   "cell_type": "markdown",
   "metadata": {},
   "source": [
    "Convert the vcf variants to a string too"
   ]
  },
  {
   "cell_type": "code",
   "execution_count": 227,
   "metadata": {},
   "outputs": [
    {
     "data": {
      "text/plain": [
       "'C'"
      ]
     },
     "execution_count": 227,
     "metadata": {},
     "output_type": "execute_result"
    }
   ],
   "source": [
    "vcf_ref_variants = ''.join([v[3] for v in all_variants])\n",
    "vcf_ref_variants"
   ]
  },
  {
   "attachments": {},
   "cell_type": "markdown",
   "metadata": {},
   "source": [
    "Compare the reference variants with the vcf variants"
   ]
  },
  {
   "cell_type": "code",
   "execution_count": 228,
   "metadata": {},
   "outputs": [
    {
     "data": {
      "text/plain": [
       "True"
      ]
     },
     "execution_count": 228,
     "metadata": {},
     "output_type": "execute_result"
    }
   ],
   "source": [
    "reference_variants == vcf_ref_variants # so, the coordinates matching is correct"
   ]
  },
  {
   "cell_type": "code",
   "execution_count": 229,
   "metadata": {},
   "outputs": [
    {
     "data": {
      "text/plain": [
       "(1, 1)"
      ]
     },
     "execution_count": 229,
     "metadata": {},
     "output_type": "execute_result"
    }
   ],
   "source": [
    "len(reference_variants), len(vcf_ref_variants)"
   ]
  },
  {
   "attachments": {},
   "cell_type": "markdown",
   "metadata": {},
   "source": [
    "They are the same"
   ]
  },
  {
   "attachments": {},
   "cell_type": "markdown",
   "metadata": {},
   "source": [
    "###  Mutate"
   ]
  },
  {
   "cell_type": "code",
   "execution_count": 230,
   "metadata": {},
   "outputs": [],
   "source": [
    "def reverse_encode_into_sequences(input_array, delim_indices):\n",
    "\n",
    "    import copy \n",
    "    # never change this whatsoever\n",
    "    A = np.array([1,0,0,0], dtype=np.float32)\n",
    "    C = np.array([0,1,0,0], dtype=np.float32)\n",
    "    G = np.array([0,0,1,0], dtype=np.float32)\n",
    "    T = np.array([0,0,0,1], dtype=np.float32)\n",
    "    seq_dict = {'A': A, 'C': C, 'G': G, 'T': T}\n",
    "\n",
    "    keys = list(seq_dict.keys())\n",
    "    values = list(seq_dict.values())\n",
    "    values = [ar.tolist() for ar in values]\n",
    "\n",
    "    if len(input_array.shape) != 3:\n",
    "        raise Exception('Input array should have 3 dimensions')\n",
    "\n",
    "    seq_list = []\n",
    "    for i, na in enumerate(range(input_array.shape[1])):\n",
    "        ts = input_array[:,i,:].tolist()[0]\n",
    "        # look up in the dictionary\n",
    "        id = values.index(ts)\n",
    "        seq_list.append(keys[id])\n",
    "    if delim_indices is not None:\n",
    "        seq = [seq_list[i] if i in delim_indices else seq_list[i].lower() for i in range(len(seq_list)) ] #\n",
    "        return(''.join(seq))\n",
    "    else:\n",
    "        return(''.join(seq_list))"
   ]
  },
  {
   "cell_type": "code",
   "execution_count": 231,
   "metadata": {},
   "outputs": [],
   "source": [
    "import importlib\n",
    "import sys\n",
    "import re"
   ]
  },
  {
   "cell_type": "code",
   "execution_count": 232,
   "metadata": {},
   "outputs": [],
   "source": [
    "sys.path.append('/grand/covid-ct/imlab/users/shared/enformer_pipeline/parallel_enformer/batch_utils')\n",
    "import sequencesUtils"
   ]
  },
  {
   "cell_type": "code",
   "execution_count": 233,
   "metadata": {},
   "outputs": [
    {
     "data": {
      "text/plain": [
       "<module 'sequencesUtils' from '/grand/covid-ct/imlab/users/shared/enformer_pipeline/parallel_enformer/batch_utils/sequencesUtils.py'>"
      ]
     },
     "execution_count": 233,
     "metadata": {},
     "output_type": "execute_result"
    }
   ],
   "source": [
    "importlib.reload(sequencesUtils)"
   ]
  },
  {
   "cell_type": "code",
   "execution_count": 234,
   "metadata": {},
   "outputs": [
    {
     "data": {
      "text/plain": [
       "'chr5_96701000_96701500'"
      ]
     },
     "execution_count": 234,
     "metadata": {},
     "output_type": "execute_result"
    }
   ],
   "source": [
    "query_input = re.sub('\\:|-', '_', query)\n",
    "query_input"
   ]
  },
  {
   "cell_type": "code",
   "execution_count": 235,
   "metadata": {},
   "outputs": [
    {
     "data": {
      "text/plain": [
       "{'sequence': array([[[1., 0., 0., 0.],\n",
       "         [0., 1., 0., 0.],\n",
       "         [0., 0., 0., 1.],\n",
       "         ...,\n",
       "         [1., 0., 0., 0.],\n",
       "         [1., 0., 0., 0.],\n",
       "         [0., 0., 1., 0.]]], dtype=float32),\n",
       " 'interval_object': {'chr': 'chr5', 'start': 96701001, 'end': 96701501}}"
      ]
     },
     "execution_count": 235,
     "metadata": {},
     "output_type": "execute_result"
    }
   ],
   "source": [
    "reference_sequence_encoded = sequencesUtils.extract_reference_sequence(region=query_input, fasta_func=fasta_extractor, resize_for_enformer=False, resize_length=None, print_sequence = False, write_log=None)\n",
    "reference_sequence_encoded"
   ]
  },
  {
   "cell_type": "code",
   "execution_count": 236,
   "metadata": {},
   "outputs": [
    {
     "data": {
      "text/plain": [
       "(1, 500, 4)"
      ]
     },
     "execution_count": 236,
     "metadata": {},
     "output_type": "execute_result"
    }
   ],
   "source": [
    "reference_sequence_encoded['sequence'].shape"
   ]
  },
  {
   "cell_type": "code",
   "execution_count": 237,
   "metadata": {},
   "outputs": [
    {
     "data": {
      "text/plain": [
       "'ACTGCAACCTCCACCTTCCAGGTTCAAGCGATAATCCTGCCTGAAGCCTCCCGAGTAGCTGGGATTACAGGCAAGCACCACCGCACACAGCTAATGTTTGTATTTTTAGTAGAGACAGGGTTTCACCATGTTGCCCAGGCTGGTCTGGAACTCCTGAGCTCAGGTGATCCACTTGCCTCGGCCTCCCAAAGTGGTGGGATTACAGGCATGAGCCACCATGCCTGGCCAGAAAATTTGTTTTATAACCATGTGATTACTCATCTGTACTCATCAGGAGCACAGAAATACATTCAGAGATAGGCATCATTGAGCTGCCTAACTCTGGAAGCTGTGGGGCCCAGGGCCCATCCCTATGGGGTGTGGCCCAAATTAGTCACCCTGTGCTGTTTTTGTCACAGGAGAAATTAATGTCAGTGAAACCTAGATGAGCTTTTAGTCTATTTTTAAAAAGGAATGACAATACTAATGATCAACAACAACAACAAAAAGGGATATATAAG'"
      ]
     },
     "execution_count": 237,
     "metadata": {},
     "output_type": "execute_result"
    }
   ],
   "source": [
    "extracted_reference = reverse_encode_into_sequences(reference_sequence_encoded['sequence'], None)\n",
    "extracted_reference"
   ]
  },
  {
   "cell_type": "code",
   "execution_count": 238,
   "metadata": {},
   "outputs": [
    {
     "data": {
      "text/plain": [
       "'ACTGCAACCTCCACCTTCCAGGTTCAAGCGATAATCCTGCCTGAAGCCTCCCGAGTAGCTGGGATTACAGGCAAGCACCACCGCACACAGCTAATGTTTGTATTTTTAGTAGAGACAGGGTTTCACCATGTTGCCCAGGCTGGTCTGGAACTCCTGAGCTCAGGTGATCCACTTGCCTCGGCCTCCCAAAGTGGTGGGATTACAGGCATGAGCCACCATGCCTGGCCAGAAAATTTGTTTTATAACCATGTGATTACTCATCTGTACTCATCAGGAGCACAGAAATACATTCAGAGATAGGCATCATTGAGCTGCCTAACTCTGGAAGCTGTGGGGCCCAGGGCCCATCCCTATGGGGTGTGGCCCAAATTAGTCACCCTGTGCTGTTTTTGTCACAGGAGAAATTAATGTCAGTGAAACCTAGATGAGCTTTTAGTCTATTTTTAAAAAGGAATGACAATACTAATGATCAACAACAACAACAAAAAGGGATATATAAG'"
      ]
     },
     "execution_count": 238,
     "metadata": {},
     "output_type": "execute_result"
    }
   ],
   "source": [
    "reference_region"
   ]
  },
  {
   "cell_type": "code",
   "execution_count": 239,
   "metadata": {},
   "outputs": [
    {
     "data": {
      "text/plain": [
       "True"
      ]
     },
     "execution_count": 239,
     "metadata": {},
     "output_type": "execute_result"
    }
   ],
   "source": [
    "extracted_reference == reference_region"
   ]
  },
  {
   "cell_type": "code",
   "execution_count": 240,
   "metadata": {},
   "outputs": [],
   "source": [
    "found_variants = sequencesUtils.find_variants_in_vcf_file(cyvcf2_object=vcf_object, interval_object=reference_sequence_encoded['interval_object'], samples=samples)\n",
    "mapping_dictionary = sequencesUtils.create_mapping_dictionary(variants_array=found_variants, interval_start = reference_sequence_encoded['interval_object']['start'], haplotype='both', sequence_source='personalized', samples=None)\n",
    "samples_variants_encoded = sequencesUtils.replace_variants_in_reference_sequence(query_sequences_encoded = reference_sequence_encoded['sequence'], mapping_dict = mapping_dictionary, samples=None)"
   ]
  },
  {
   "cell_type": "code",
   "execution_count": 241,
   "metadata": {},
   "outputs": [
    {
     "data": {
      "text/plain": [
       "{'LuCaP_136': {'haplotype1': array([[[1., 0., 0., 0.],\n",
       "          [0., 1., 0., 0.],\n",
       "          [0., 0., 0., 1.],\n",
       "          ...,\n",
       "          [1., 0., 0., 0.],\n",
       "          [1., 0., 0., 0.],\n",
       "          [0., 0., 1., 0.]]], dtype=float32),\n",
       "  'haplotype2': array([[[1., 0., 0., 0.],\n",
       "          [0., 1., 0., 0.],\n",
       "          [0., 0., 0., 1.],\n",
       "          ...,\n",
       "          [1., 0., 0., 0.],\n",
       "          [1., 0., 0., 0.],\n",
       "          [0., 0., 1., 0.]]], dtype=float32)},\n",
       " 'LuCaP_141': {'haplotype1': array([[[1., 0., 0., 0.],\n",
       "          [0., 1., 0., 0.],\n",
       "          [0., 0., 0., 1.],\n",
       "          ...,\n",
       "          [1., 0., 0., 0.],\n",
       "          [1., 0., 0., 0.],\n",
       "          [0., 0., 1., 0.]]], dtype=float32),\n",
       "  'haplotype2': array([[[1., 0., 0., 0.],\n",
       "          [0., 1., 0., 0.],\n",
       "          [0., 0., 0., 1.],\n",
       "          ...,\n",
       "          [1., 0., 0., 0.],\n",
       "          [1., 0., 0., 0.],\n",
       "          [0., 0., 1., 0.]]], dtype=float32)}}"
      ]
     },
     "execution_count": 241,
     "metadata": {},
     "output_type": "execute_result"
    }
   ],
   "source": [
    "samples_variants_encoded"
   ]
  },
  {
   "cell_type": "code",
   "execution_count": 242,
   "metadata": {},
   "outputs": [
    {
     "data": {
      "text/plain": [
       "True"
      ]
     },
     "execution_count": 242,
     "metadata": {},
     "output_type": "execute_result"
    }
   ],
   "source": [
    "reverse_encode_into_sequences(samples_variants_encoded['LuCaP_136']['haplotype2'], None) == extracted_reference"
   ]
  },
  {
   "cell_type": "code",
   "execution_count": 243,
   "metadata": {},
   "outputs": [
    {
     "data": {
      "text/plain": [
       "'ACTGCAACCTCCACCTTCCAGGTTCAAGCGATAATCCTGCCTGAAGCCTCCCGAGTAGCTGGGATTACAGGCAAGCACCACCGCACACAGCTAATGTTTGTATTTTTAGTAGAGACAGGGTTTCACCATGTTGCCCAGGCTGGTCTGGAACTCCTGAGCTCAGGTGATCCACTTGCCTCGGCCTCCCAAAGTGGTGGGATTACAGGCATGAGCCACCATGCCTGGCCAGAAAATTTGTTTTATAACCATGTGATTACTCATCTGTACTCATCAGGAGCACAGAAATACATTCAGAGATAGGCATCATTGAGCTGCCTAACTCTGGAAGCTGTGGGGCCCAGGGCCCATCCCTATGGGGTGTGGCCCAAATTAGTCACCCTGTGCTGTTTTTGTCACAGGAGAAATTAATGTCAGTGAAACCTAGATGAGCTTTTAGTCTATTTTTAAAAAGGAATGACAATACTAATGATCAACAACAACAACAAAAAGGGATATATAAG'"
      ]
     },
     "execution_count": 243,
     "metadata": {},
     "output_type": "execute_result"
    }
   ],
   "source": [
    "sample_variant_sequence = reverse_encode_into_sequences(samples_variants_encoded['LuCaP_136']['haplotype2'], None)\n",
    "sample_variant_sequence"
   ]
  },
  {
   "cell_type": "code",
   "execution_count": 244,
   "metadata": {},
   "outputs": [
    {
     "data": {
      "text/plain": [
       "'ACTGCAACCTCCACCTTCCAGGTTCAAGCGATAATCCTGCCTGAAGCCTCCCGAGTAGCTGGGATTACAGGCAAGCACCACCGCACACAGCTAATGTTTGTATTTTTAGTAGAGACAGGGTTTCACCATGTTGCCCAGGCTGGTCTGGAACTCCTGAGCTCAGGTGATCCACTTGCCTCGGCCTCCCAAAGTGGTGGGATTACAGGCATGAGCCACCATGCCTGGCCAGAAAATTTGTTTTATAACCATGTGATTACTCATCTGTACTCATCAGGAGCACAGAAATACATTCAGAGATAGGCATCATTGAGCTGCCTAACTCTGGAAGCTGTGGGGCCCAGGGCCCATCCCTATGGGGTGTGGCCCAAATTAGTCACCCTGTGCTGTTTTTGTCACAGGAGAAATTAATGTCAGTGAAACCTAGATGAGCTTTTAGTCTATTTTTAAAAAGGAATGACAATACTAATGATCAACAACAACAACAAAAAGGGATATATAAG'"
      ]
     },
     "execution_count": 244,
     "metadata": {},
     "output_type": "execute_result"
    }
   ],
   "source": [
    "extracted_reference"
   ]
  },
  {
   "cell_type": "code",
   "execution_count": 245,
   "metadata": {},
   "outputs": [],
   "source": [
    "for i in range(len(extracted_reference)):\n",
    "    if extracted_reference[i] != sample_variant_sequence[i]:\n",
    "        print(f\"index {i}: {extracted_reference[i]} != {sample_variant_sequence[i]}\")"
   ]
  },
  {
   "cell_type": "code",
   "execution_count": 246,
   "metadata": {},
   "outputs": [
    {
     "data": {
      "text/plain": [
       "{'positions': (90,),\n",
       " 'LuCaP_136': {'haplotype1': (array([0., 1., 0., 0.], dtype=float32),),\n",
       "  'haplotype2': (array([0., 1., 0., 0.], dtype=float32),)},\n",
       " 'LuCaP_141': {'haplotype1': (array([0., 1., 0., 0.], dtype=float32),),\n",
       "  'haplotype2': (array([0., 1., 0., 0.], dtype=float32),)}}"
      ]
     },
     "execution_count": 246,
     "metadata": {},
     "output_type": "execute_result"
    }
   ],
   "source": [
    "mapping_dictionary"
   ]
  },
  {
   "attachments": {},
   "cell_type": "markdown",
   "metadata": {},
   "source": [
    "## Here, I extend the above to the GEUVADIS dataset which is split across different chromosomes :("
   ]
  },
  {
   "cell_type": "code",
   "execution_count": 248,
   "metadata": {},
   "outputs": [],
   "source": [
    "reference_genome = '/grand/covid-ct/imlab/data/hg_sequences/hg38/Homo_sapiens_assembly38.fasta'\n",
    "vcf_files_dir = '/grand/covid-ct/imlab/data/GEUVADIS/vcf_snps_only'"
   ]
  },
  {
   "cell_type": "code",
   "execution_count": 249,
   "metadata": {},
   "outputs": [
    {
     "data": {
      "text/plain": [
       "['chr1', 'chr2', 'chr3', 'chr4', 'chr5']"
      ]
     },
     "execution_count": 249,
     "metadata": {},
     "output_type": "execute_result"
    }
   ],
   "source": [
    "chromosomes = [f'chr{i}' for i in list(range(1, 23))]\n",
    "chromosomes.extend(['chrX', 'chrY', 'chrM'])\n",
    "chromosomes[0:5]"
   ]
  },
  {
   "cell_type": "code",
   "execution_count": 250,
   "metadata": {},
   "outputs": [],
   "source": [
    "fasta_extractor = FastaStringExtractor(reference_genome)"
   ]
  },
  {
   "cell_type": "code",
   "execution_count": 247,
   "metadata": {},
   "outputs": [
    {
     "ename": "NameError",
     "evalue": "name 'chromosomes' is not defined",
     "output_type": "error",
     "traceback": [
      "\u001b[0;31m---------------------------------------------------------------------------\u001b[0m",
      "\u001b[0;31mNameError\u001b[0m                                 Traceback (most recent call last)",
      "\u001b[1;32m/lus/grand/projects/covid-ct/imlab/users/temi/projects/TFXcan/scripts/check_variants.ipynb Cell 56\u001b[0m in \u001b[0;36m3\n\u001b[1;32m      <a href='vscode-notebook-cell://ssh-remote%2Bpolaris/lus/grand/projects/covid-ct/imlab/users/temi/projects/TFXcan/scripts/check_variants.ipynb#X46sdnNjb2RlLXJlbW90ZQ%3D%3D?line=0'>1</a>\u001b[0m variants_status \u001b[39m=\u001b[39m {}\n\u001b[0;32m----> <a href='vscode-notebook-cell://ssh-remote%2Bpolaris/lus/grand/projects/covid-ct/imlab/users/temi/projects/TFXcan/scripts/check_variants.ipynb#X46sdnNjb2RlLXJlbW90ZQ%3D%3D?line=2'>3</a>\u001b[0m \u001b[39mfor\u001b[39;00m \u001b[39mchr\u001b[39m \u001b[39min\u001b[39;00m chromosomes:\n\u001b[1;32m      <a href='vscode-notebook-cell://ssh-remote%2Bpolaris/lus/grand/projects/covid-ct/imlab/users/temi/projects/TFXcan/scripts/check_variants.ipynb#X46sdnNjb2RlLXJlbW90ZQ%3D%3D?line=3'>4</a>\u001b[0m     \u001b[39mprint\u001b[39m(\u001b[39mchr\u001b[39m)\n\u001b[1;32m      <a href='vscode-notebook-cell://ssh-remote%2Bpolaris/lus/grand/projects/covid-ct/imlab/users/temi/projects/TFXcan/scripts/check_variants.ipynb#X46sdnNjb2RlLXJlbW90ZQ%3D%3D?line=4'>5</a>\u001b[0m     vcf_f \u001b[39m=\u001b[39m \u001b[39mf\u001b[39m\u001b[39m'\u001b[39m\u001b[39m{\u001b[39;00mvcf_files_dir\u001b[39m}\u001b[39;00m\u001b[39m/ALL.\u001b[39m\u001b[39m{\u001b[39;00m\u001b[39mchr\u001b[39m\u001b[39m}\u001b[39;00m\u001b[39m.shapeit2_integrated_SNPs_v2a_27022019.GRCh38.phased.vcf.gz\u001b[39m\u001b[39m'\u001b[39m\n",
      "\u001b[0;31mNameError\u001b[0m: name 'chromosomes' is not defined"
     ]
    }
   ],
   "source": [
    "variants_status = {}\n",
    "\n",
    "for chr in chromosomes:\n",
    "    print(chr)\n",
    "    vcf_f = f'{vcf_files_dir}/ALL.{chr}.shapeit2_integrated_SNPs_v2a_27022019.GRCh38.phased.vcf.gz'\n",
    "    if os.path.isfile(vcf_f):\n",
    "        chr_variants = []\n",
    "        for i, variant in enumerate(cyvcf2.cyvcf2.VCF(vcf_f)):\n",
    "            if i > 50000:\n",
    "                break\n",
    "            else:\n",
    "                out = []\n",
    "                out.extend([variant.CHROM, variant.start, variant.end, variant.REF, variant.ALT])\n",
    "                chr_variants.append(out)\n",
    "    \n",
    "    chr_reference_variants_positions = [[v[0], v[1], v[2]] for v in chr_variants]\n",
    "    print(chr_reference_variants_positions[1:3])\n",
    "\n",
    "    chr_reference_variants = []\n",
    "    for vpos in chr_reference_variants_positions:\n",
    "        slength = len(range(vpos[1], vpos[2]))\n",
    "        reg_interval = kipoiseq.Interval(vpos[0], vpos[1], vpos[2]).resize(slength)\n",
    "        reference_region = fasta_extractor.extract(interval=reg_interval, anchor=[])\n",
    "        chr_reference_variants.append(reference_region)\n",
    "\n",
    "    chr_reference_variants = ''.join(chr_reference_variants)\n",
    "    chr_vcf_ref_variants = ''.join([v[3] for v in chr_variants])\n",
    "\n",
    "    status = chr_reference_variants == chr_vcf_ref_variants\n",
    "    print(f'    {status}')\n",
    "\n",
    "    variants_status[chr] = status\n",
    "    "
   ]
  },
  {
   "cell_type": "code",
   "execution_count": null,
   "metadata": {},
   "outputs": [],
   "source": []
  },
  {
   "attachments": {},
   "cell_type": "markdown",
   "metadata": {},
   "source": [
    "## Confirm bin validity"
   ]
  },
  {
   "cell_type": "code",
   "execution_count": null,
   "metadata": {},
   "outputs": [],
   "source": []
  },
  {
   "cell_type": "code",
   "execution_count": null,
   "metadata": {},
   "outputs": [],
   "source": []
  },
  {
   "cell_type": "code",
   "execution_count": null,
   "metadata": {},
   "outputs": [],
   "source": []
  }
 ],
 "metadata": {
  "kernelspec": {
   "display_name": "compbio-tools",
   "language": "python",
   "name": "python3"
  },
  "language_info": {
   "codemirror_mode": {
    "name": "ipython",
    "version": 3
   },
   "file_extension": ".py",
   "mimetype": "text/x-python",
   "name": "python",
   "nbconvert_exporter": "python",
   "pygments_lexer": "ipython3",
   "version": "3.9.13"
  },
  "orig_nbformat": 4,
  "vscode": {
   "interpreter": {
    "hash": "95322e5a899c67d6eda70170ef4045a43e2adec6a0d5b02047f209fe8145415d"
   }
  }
 },
 "nbformat": 4,
 "nbformat_minor": 2
}
