{
 "cells": [
  {
   "cell_type": "markdown",
   "metadata": {},
   "source": [
    "In this notebook, if given a vcf file (for all chromosomes) for a set of individuals, I want to be able to quickly extract the sequences for a region with all the variants for each individual applied to the reference sequence"
   ]
  },
  {
   "cell_type": "code",
   "execution_count": 1,
   "metadata": {},
   "outputs": [],
   "source": [
    "import os, re, sys\n",
    "import cyvcf2\n",
    "from cyvcf2 import VCF\n",
    "import numpy as np\n",
    "import kipoiseq\n",
    "from Bio.Seq import MutableSeq\n",
    "import subprocess\n",
    "import warnings"
   ]
  },
  {
   "cell_type": "code",
   "execution_count": 2,
   "metadata": {},
   "outputs": [
    {
     "name": "stderr",
     "output_type": "stream",
     "text": [
      "2022-10-25 15:25:18.995775: W tensorflow/stream_executor/platform/default/dso_loader.cc:64] Could not load dynamic library 'libcudart.so.11.0'; dlerror: libcudart.so.11.0: cannot open shared object file: No such file or directory; LD_LIBRARY_PATH: /soft/perftools/darshan/darshan-3.3.0/lib:/opt/cray/pe/papi/6.0.0.1/lib64:/opt/cray/job/2.2.4-7.0.2.1_2.91__g36b56f4.ari/lib64:/opt/intel/compilers_and_libraries_2020.0.166/linux/compiler/lib/intel64:/opt/intel/compilers_and_libraries_2020.0.166/linux/compiler/lib/intel64_lin:/opt/intel/compilers_and_libraries_2020.0.166/linux/mpi/intel64/lib:/opt/intel/compilers_and_libraries_2020.0.166/linux/mpi/mic/lib:/opt/intel/compilers_and_libraries_2020.0.166/linux/ipp/lib/intel64:/opt/intel/compilers_and_libraries_2020.0.166/linux/compiler/lib/intel64:/opt/intel/compilers_and_libraries_2020.0.166/linux/mkl/lib/intel64:/opt/intel/compilers_and_libraries_2020.0.166/linux/tbb/lib/intel64/gcc4.4:/opt/intel/debugger_2020/libipt/intel64/lib:/opt/intel/compilers_and_libraries_2020.0.166/linux/daal/lib/intel64_lin:/opt/intel/compilers_and_libraries_2020.0.166/linux/daal/../compiler/lib/intel64_lin:/dbhome/db2cat/sqllib/lib64:/dbhome/db2cat/sqllib/lib64/gskit:/dbhome/db2cat/sqllib/lib32\n",
      "2022-10-25 15:25:18.995804: I tensorflow/stream_executor/cuda/cudart_stub.cc:29] Ignore above cudart dlerror if you do not have a GPU set up on your machine.\n"
     ]
    }
   ],
   "source": [
    "usage_codes = f'./enformer-usage-codes.py'\n",
    "\n",
    "# import the enformer-usage_codes.py file\n",
    "exec(open(usage_codes).read(), globals(), globals())"
   ]
  },
  {
   "cell_type": "code",
   "execution_count": 3,
   "metadata": {},
   "outputs": [
    {
     "data": {
      "text/plain": [
       "'/lus/theta-fs0/projects/covid-ct/imlab/users/temi/projects/TFXcan/scripts'"
      ]
     },
     "execution_count": 3,
     "metadata": {},
     "output_type": "execute_result"
    }
   ],
   "source": [
    "os.getcwd()"
   ]
  },
  {
   "cell_type": "code",
   "execution_count": 4,
   "metadata": {},
   "outputs": [],
   "source": [
    "vcf_file = '../prj6_genotypes/merged_phased_SNPs.vcf.gz'\n",
    "path_to_bcftools = \"/home/temi/miniconda3/envs/compbio-tools/bin/bcftools\"\n",
    "path_to_vcftools = \"/home/temi/miniconda3/envs/compbio-tools/bin/vcftools\"\n",
    "fasta_seq = '/lus-projects/covid-ct/imlab/data/hg_sequences/hg38/Homo_sapiens_assembly38.fasta'\n",
    "path_to_tabix = '/home/temi/miniconda3/envs/compbio-tools/bin/tabix'\n",
    "\n",
    "\n",
    "# this stores temporary files based on regions defined\n",
    "temporary_vcfs = '/lus-projects/covid-ct/imlab/users/temi/projects/TFXcan/bcftools_region'\n",
    "\n",
    "if not os.path.isdir(temporary_vcfs):\n",
    "    os.mkdir(temporary_vcfs)\n",
    "\n",
    "#path_to_bcftools = \"/home/temi/miniconda3/envs/compbio-tools/bin/bcftools\""
   ]
  },
  {
   "cell_type": "markdown",
   "metadata": {},
   "source": [
    "Assuming these parameters"
   ]
  },
  {
   "cell_type": "code",
   "execution_count": 21,
   "metadata": {},
   "outputs": [
    {
     "data": {
      "text/plain": [
       "['chr1', 133118092, 133511307]"
      ]
     },
     "execution_count": 21,
     "metadata": {},
     "output_type": "execute_result"
    }
   ],
   "source": [
    "SEQUENCE_LENGTH = 393216\n",
    "samples = ['LuCaP_141', 'LuCaP_145', 'LuCaP_167']\n",
    "reg_chr = 'chr1'\n",
    "reg_start = 133118092\n",
    "reg_end = 133511307\n",
    "\n",
    "# arguments\n",
    "region = [reg_chr, reg_start, reg_end]\n",
    "\n",
    "vcf = VCF(vcf_file, samples=samples) # select for the individuals\n",
    "#region = f'{reg_chr}:{reg_start}-{reg_end}'\n",
    "\n",
    "region"
   ]
  },
  {
   "cell_type": "code",
   "execution_count": 102,
   "metadata": {},
   "outputs": [],
   "source": [
    "\n",
    "#fasta_extractor = FastaStringExtractor(fasta_seq) # the function is defined in the usage codes\n",
    "\n",
    "#interval = kipoiseq.Interval(reg_chr, reg_start, reg_end).resize(SEQUENCE_LENGTH) # create an interval object for the regions\n",
    "#seq_extractor = kipoiseq.extractors.VariantSeqExtractor(reference_sequence=fasta_extractor)\n",
    "#reference = seq_extractor.extract(interval, [], anchor=center)"
   ]
  },
  {
   "cell_type": "code",
   "execution_count": 22,
   "metadata": {},
   "outputs": [],
   "source": [
    "\n",
    "interval = kipoiseq.Interval('chr1', 133118092, 133511307).resize(SEQUENCE_LENGTH)"
   ]
  },
  {
   "cell_type": "code",
   "execution_count": 23,
   "metadata": {},
   "outputs": [
    {
     "data": {
      "text/plain": [
       "(196608, 133314700, 393216, 133118092, 133511308)"
      ]
     },
     "execution_count": 23,
     "metadata": {},
     "output_type": "execute_result"
    }
   ],
   "source": [
    "interval.center() - interval.start, interval.center(), interval.width(), interval.start, interval.end"
   ]
  },
  {
   "cell_type": "code",
   "execution_count": 53,
   "metadata": {},
   "outputs": [],
   "source": [
    "def create_region_file(vcf_file, region, output_dir, individual, software_paths=[path_to_bcftools, path_to_tabix]):\n",
    "    '''\n",
    "    Creates a subsetted vcf file per region\n",
    "    \n",
    "    \n",
    "    '''\n",
    "\n",
    "    path_to_bcftools = software_paths[0]\n",
    "    path_to_tabix = software_paths[1]\n",
    "\n",
    "    # Center the interval at the region\n",
    "    interval = kipoiseq.Interval(region[0], region[1], region[2]).resize(SEQUENCE_LENGTH) # resizing will change the regions\n",
    "\n",
    "    path = f'{output_dir}/{individual}_{interval.chr}_{interval.start}_{interval.end}_subset_genotypes.vcf.gz'\n",
    "\n",
    "    region = f'{interval.chr}:{interval.start}-{interval.end}'\n",
    "\n",
    "    view_cmd = f\"{path_to_bcftools} filter {vcf_file} -r {region} --output-type z --output {path} && {path_to_tabix} -p vcf {path}\"\n",
    "\n",
    "    out = subprocess.run(view_cmd, shell=True)\n",
    "\n",
    "    return {'subset_path':path, 'interval':interval}\n",
    "\n",
    "def extract_individual_sequence(region_details, individuals, fasta_file_path, delete_region=False):\n",
    "\n",
    "    '''\n",
    "    Extracts a sequence from a reference for a region with the variants of an individual applied\n",
    "    '''\n",
    "\n",
    "    kseq_extractor = kipoiseq.extractors.SingleSeqVCFSeqExtractor(fasta_file=fasta_file_path, vcf_file=region_details['subset_path'])\n",
    "\n",
    "    center = region_details['interval'].center() - region_details['interval'].start\n",
    "\n",
    "    individuals_sequences = {}\n",
    "    for ind in individuals:\n",
    "\n",
    "        warnings.filterwarnings('error')\n",
    "        \n",
    "        try:\n",
    "            individuals_sequences[ind] = kseq_extractor.extract(interval=region_details['interval'], anchor=center, sample_id=ind)\n",
    "            seq_source = 'var'\n",
    "        except Warning:\n",
    "            warnings.simplefilter(\"always\", category=UserWarning)\n",
    "            \n",
    "            print('No variants for this region. Using reference genome.\\n')\n",
    "            individuals_sequences[ind] = fasta_extractor.extract(interval=region_details['interval'], anchor=[])\n",
    "            seq_source = 'ref'\n",
    "\n",
    "    if delete_region == True:\n",
    "        os.remove(region_details['subset_path'])\n",
    "        os.remove(f\"{region_details['subset_path']}.tbi\")\n",
    "\n",
    "    return {'sequence':individuals_sequences, 'sequence_source':seq_source}"
   ]
  },
  {
   "cell_type": "code",
   "execution_count": 57,
   "metadata": {},
   "outputs": [
    {
     "data": {
      "text/plain": [
       "NoneType"
      ]
     },
     "execution_count": 57,
     "metadata": {},
     "output_type": "execute_result"
    }
   ],
   "source": [
    "type(None)"
   ]
  },
  {
   "cell_type": "code",
   "execution_count": 59,
   "metadata": {},
   "outputs": [
    {
     "data": {
      "text/plain": [
       "True"
      ]
     },
     "execution_count": 59,
     "metadata": {},
     "output_type": "execute_result"
    }
   ],
   "source": [
    "j = None\n",
    "isinstance(j, type(None))"
   ]
  },
  {
   "cell_type": "code",
   "execution_count": 55,
   "metadata": {},
   "outputs": [
    {
     "name": "stdout",
     "output_type": "stream",
     "text": [
      "No variants for this region. Using reference genome.\n",
      "\n"
     ]
    }
   ],
   "source": [
    "a = create_region_file(vcf_file, region, output_dir=temporary_vcfs, individual=samples[0])\n",
    "b = extract_individual_sequence(a, [samples[0]], fasta_file_path=fasta_seq)"
   ]
  },
  {
   "cell_type": "code",
   "execution_count": 56,
   "metadata": {},
   "outputs": [
    {
     "name": "stdout",
     "output_type": "stream",
     "text": [
      "No variants for this region. Using reference genome.\n",
      "\n"
     ]
    }
   ],
   "source": [
    "for reg in [['chr1', 133118092, 133511307], ['chr3', 30879959, 30879961]]:\n",
    "    a = create_region_file(vcf_file, reg, output_dir=temporary_vcfs, individual=samples[0])\n",
    "    b = extract_individual_sequence(a, [samples[0]], fasta_file_path=fasta_seq)"
   ]
  },
  {
   "cell_type": "code",
   "execution_count": 108,
   "metadata": {},
   "outputs": [],
   "source": [
    "vcf.close()"
   ]
  },
  {
   "cell_type": "markdown",
   "metadata": {},
   "source": [
    "# Learning parsl"
   ]
  },
  {
   "cell_type": "code",
   "execution_count": 2,
   "metadata": {},
   "outputs": [
    {
     "name": "stdout",
     "output_type": "stream",
     "text": [
      "1.3.0-dev\n"
     ]
    }
   ],
   "source": [
    "exec(open('./parsl-configuration.py').read(), globals(), globals())"
   ]
  },
  {
   "cell_type": "code",
   "execution_count": 5,
   "metadata": {},
   "outputs": [
    {
     "data": {
      "text/plain": [
       "<parsl.dataflow.dflow.DataFlowKernel at 0x7fe3b7e97f10>"
      ]
     },
     "execution_count": 5,
     "metadata": {},
     "output_type": "execute_result"
    }
   ],
   "source": [
    "import random\n",
    "from parsl.configs.local_threads import config\n",
    "parsl.load(config)"
   ]
  },
  {
   "cell_type": "code",
   "execution_count": 6,
   "metadata": {},
   "outputs": [],
   "source": [
    "# write a short code that generates random numbers between a and b and returns the sum\n",
    "\n",
    "@python_app\n",
    "def doSomething(a=0, b=500):\n",
    "    random_numbers = random.sample(range(a, b), 200)\n",
    "    return(sum(random_numbers))\n"
   ]
  },
  {
   "cell_type": "code",
   "execution_count": 7,
   "metadata": {},
   "outputs": [
    {
     "data": {
      "text/plain": [
       "<AppFuture at 0x7fe3e0121720 state=finished raised ValueError>"
      ]
     },
     "execution_count": 7,
     "metadata": {},
     "output_type": "execute_result"
    }
   ],
   "source": [
    "doSomething(23, 45)"
   ]
  },
  {
   "cell_type": "code",
   "execution_count": 10,
   "metadata": {},
   "outputs": [
    {
     "name": "stdout",
     "output_type": "stream",
     "text": [
      "Finished 0 | result 49102\n",
      "\n",
      "Finished 1 | result 52076\n",
      "\n",
      "Finished 2 | result 50790\n",
      "\n",
      "Finished 3 | result 46982\n",
      "\n",
      "Finished 4 | result 49596\n",
      "\n",
      "Finished 5 | result 50456\n",
      "\n",
      "Finished 6 | result 47748\n",
      "\n",
      "Finished 7 | result 46151\n",
      "\n",
      "Finished 8 | result 50701\n",
      "\n",
      "Finished 9 | result 49732\n",
      "\n",
      "Finished 10 | result 49939\n",
      "\n"
     ]
    }
   ],
   "source": [
    "res_list = []\n",
    "for i in range(0, 11):\n",
    "    attempt = doSomething()\n",
    "    #res_list.append(attempt)\n",
    "    if (attempt.done() == True) and (attempt.result() > 50000):\n",
    "        print(f'Finished {i} | result {attempt.result()}\\n')\n",
    "    if (attempt.done() == False):\n",
    "        print(f'Not Finished {i} | result {attempt.result()}\\n')"
   ]
  },
  {
   "cell_type": "code",
   "execution_count": 44,
   "metadata": {},
   "outputs": [
    {
     "data": {
      "text/plain": [
       "50140"
      ]
     },
     "execution_count": 44,
     "metadata": {},
     "output_type": "execute_result"
    }
   ],
   "source": [
    "attempt.result()"
   ]
  },
  {
   "cell_type": "code",
   "execution_count": 32,
   "metadata": {},
   "outputs": [
    {
     "data": {
      "text/plain": [
       "[True, True, True, True, True, True, True, True, True, True, True]"
      ]
     },
     "execution_count": 32,
     "metadata": {},
     "output_type": "execute_result"
    }
   ],
   "source": [
    "[r.done() for r in res_list]"
   ]
  },
  {
   "cell_type": "code",
   "execution_count": 33,
   "metadata": {},
   "outputs": [
    {
     "data": {
      "text/plain": [
       "[{'out': 47919},\n",
       " {'out': 49629},\n",
       " {'out': 49406},\n",
       " {'out': 49589},\n",
       " {'out': 51462},\n",
       " {'out': 50509},\n",
       " {'out': 48292},\n",
       " {'out': 49680},\n",
       " {'out': 49387},\n",
       " {'out': 47572},\n",
       " {'out': 48228}]"
      ]
     },
     "execution_count": 33,
     "metadata": {},
     "output_type": "execute_result"
    }
   ],
   "source": [
    "[r.result() for r in res_list]"
   ]
  },
  {
   "cell_type": "code",
   "execution_count": 4,
   "metadata": {},
   "outputs": [],
   "source": [
    "parsl.clear()"
   ]
  },
  {
   "cell_type": "code",
   "execution_count": 26,
   "metadata": {},
   "outputs": [
    {
     "ename": "AttributeError",
     "evalue": "'AppFuture' object has no attribute 'output'",
     "output_type": "error",
     "traceback": [
      "\u001b[0;31m---------------------------------------------------------------------------\u001b[0m",
      "\u001b[0;31mAttributeError\u001b[0m                            Traceback (most recent call last)",
      "Cell \u001b[0;32mIn [26], line 1\u001b[0m\n\u001b[0;32m----> 1\u001b[0m res_list[\u001b[39m0\u001b[39;49m]\u001b[39m.\u001b[39;49moutput\n",
      "\u001b[0;31mAttributeError\u001b[0m: 'AppFuture' object has no attribute 'output'"
     ]
    }
   ],
   "source": [
    "res_list[0].output"
   ]
  },
  {
   "cell_type": "code",
   "execution_count": null,
   "metadata": {},
   "outputs": [],
   "source": []
  }
 ],
 "metadata": {
  "kernelspec": {
   "display_name": "Python 3.10.6 ('dl-tools')",
   "language": "python",
   "name": "python3"
  },
  "language_info": {
   "codemirror_mode": {
    "name": "ipython",
    "version": 3
   },
   "file_extension": ".py",
   "mimetype": "text/x-python",
   "name": "python",
   "nbconvert_exporter": "python",
   "pygments_lexer": "ipython3",
   "version": "3.10.6"
  },
  "orig_nbformat": 4,
  "vscode": {
   "interpreter": {
    "hash": "6dcac1a71ccad94eb769456e80f90aa894f3068a5275ffeae8fac07a2d93c97a"
   }
  }
 },
 "nbformat": 4,
 "nbformat_minor": 2
}
