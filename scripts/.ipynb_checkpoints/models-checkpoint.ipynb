{
 "cells": [
  {
   "cell_type": "markdown",
   "id": "79e121ed",
   "metadata": {},
   "source": [
    "Read in pickle files"
   ]
  },
  {
   "cell_type": "code",
   "execution_count": 53,
   "id": "72bfa2e5",
   "metadata": {},
   "outputs": [],
   "source": [
    "OUTPUT_DIR = '/projects/covid-ct/imlab/users/temi/projects/TFXcan/output/reference_predictions'\n",
    "\n",
    "#import pickle as pkl\n",
    "import numpy as np\n",
    "import pandas as pd, collections\n",
    "import _pickle as cPickle\n",
    "import gc\n",
    "from sklearn.linear_model import ElasticNet\n",
    "from sklearn.model_selection import cross_val_score\n",
    "from sklearn.model_selection import RepeatedKFold\n",
    "\n",
    "# Note, use CV for cross-validation as requested in the question\n",
    "from sklearn.linear_model import LogisticRegressionCV\n",
    "\n",
    "# Load some other sklearn functions\n",
    "from sklearn.model_selection import train_test_split\n",
    "from sklearn.metrics import classification_report"
   ]
  },
  {
   "cell_type": "code",
   "execution_count": null,
   "id": "204ec460",
   "metadata": {},
   "outputs": [],
   "source": []
  },
  {
   "cell_type": "code",
   "execution_count": 2,
   "id": "3c26e4a0",
   "metadata": {},
   "outputs": [],
   "source": [
    "Gata3_first = 983 # CHIP:GATA3:T47D treated with 0.02% dimethyl sulfoxide for 1 hour\n",
    "Gata3_second = 1417 # CHIP:GATA3:SH-SY5Y\n",
    "Gata3_third = 2740 # CHIP:GATA3:MCF-7"
   ]
  },
  {
   "cell_type": "code",
   "execution_count": 3,
   "id": "016faf02",
   "metadata": {},
   "outputs": [
    {
     "data": {
      "text/html": [
       "<div>\n",
       "<style scoped>\n",
       "    .dataframe tbody tr th:only-of-type {\n",
       "        vertical-align: middle;\n",
       "    }\n",
       "\n",
       "    .dataframe tbody tr th {\n",
       "        vertical-align: top;\n",
       "    }\n",
       "\n",
       "    .dataframe thead th {\n",
       "        text-align: right;\n",
       "    }\n",
       "</style>\n",
       "<table border=\"1\" class=\"dataframe\">\n",
       "  <thead>\n",
       "    <tr style=\"text-align: right;\">\n",
       "      <th></th>\n",
       "      <th>motif</th>\n",
       "      <th>status</th>\n",
       "    </tr>\n",
       "  </thead>\n",
       "  <tbody>\n",
       "    <tr>\n",
       "      <th>0</th>\n",
       "      <td>TP358</td>\n",
       "      <td>completed</td>\n",
       "    </tr>\n",
       "    <tr>\n",
       "      <th>1</th>\n",
       "      <td>TP359</td>\n",
       "      <td>completed</td>\n",
       "    </tr>\n",
       "    <tr>\n",
       "      <th>2</th>\n",
       "      <td>TP360</td>\n",
       "      <td>completed</td>\n",
       "    </tr>\n",
       "    <tr>\n",
       "      <th>3</th>\n",
       "      <td>TP361</td>\n",
       "      <td>completed</td>\n",
       "    </tr>\n",
       "    <tr>\n",
       "      <th>4</th>\n",
       "      <td>TP362</td>\n",
       "      <td>completed</td>\n",
       "    </tr>\n",
       "  </tbody>\n",
       "</table>\n",
       "</div>"
      ],
      "text/plain": [
       "   motif     status\n",
       "0  TP358  completed\n",
       "1  TP359  completed\n",
       "2  TP360  completed\n",
       "3  TP361  completed\n",
       "4  TP362  completed"
      ]
     },
     "execution_count": 3,
     "metadata": {},
     "output_type": "execute_result"
    }
   ],
   "source": [
    "region_data = pd.read_csv('/projects/covid-ct/imlab/users/temi/projects/TFXcan/log/logging_predictions.csv')\n",
    "region_data.head()"
   ]
  },
  {
   "cell_type": "code",
   "execution_count": 4,
   "id": "e013b06c",
   "metadata": {},
   "outputs": [],
   "source": [
    "motif_y = ['TP' if m.startswith('TP') else 'TN' for m in region_data.motif.values]\n",
    "region_data['motif_y'] = motif_y"
   ]
  },
  {
   "cell_type": "code",
   "execution_count": 5,
   "id": "2d37a168",
   "metadata": {},
   "outputs": [
    {
     "data": {
      "text/plain": [
       "Counter({'TP': 1214, 'TN': 14652})"
      ]
     },
     "execution_count": 5,
     "metadata": {},
     "output_type": "execute_result"
    }
   ],
   "source": [
    "collections.Counter(motif_y)"
   ]
  },
  {
   "cell_type": "markdown",
   "id": "f3bb6342",
   "metadata": {},
   "source": [
    "I should randomly select like 800 TPs and 800 TNs and train on these"
   ]
  },
  {
   "cell_type": "code",
   "execution_count": 6,
   "id": "8e33af49",
   "metadata": {},
   "outputs": [],
   "source": [
    "np.random.seed(2022)"
   ]
  },
  {
   "cell_type": "code",
   "execution_count": 7,
   "id": "015e2412",
   "metadata": {},
   "outputs": [],
   "source": [
    "train_info = region_data.groupby('motif_y').sample(n=800, random_state=2022)\n",
    "test_info = region_data[~region_data.index.isin(train_info.index.values)]"
   ]
  },
  {
   "cell_type": "code",
   "execution_count": null,
   "id": "b2f56f0e",
   "metadata": {},
   "outputs": [],
   "source": []
  },
  {
   "cell_type": "code",
   "execution_count": null,
   "id": "1057f1e7",
   "metadata": {},
   "outputs": [],
   "source": []
  },
  {
   "cell_type": "code",
   "execution_count": null,
   "id": "9a49c74d",
   "metadata": {},
   "outputs": [],
   "source": []
  },
  {
   "cell_type": "code",
   "execution_count": null,
   "id": "157a6e76",
   "metadata": {},
   "outputs": [],
   "source": []
  },
  {
   "cell_type": "code",
   "execution_count": null,
   "id": "9806a6ec",
   "metadata": {},
   "outputs": [],
   "source": []
  },
  {
   "cell_type": "code",
   "execution_count": 8,
   "id": "3299b258",
   "metadata": {},
   "outputs": [],
   "source": [
    "\n",
    "def Threshold_tracks(selected_tracks, thresh=None):\n",
    "    \n",
    "    if isinstance(selected_tracks, type({})):\n",
    "        output = {}\n",
    "        for k, v in selected_tracks.items():\n",
    "\n",
    "            if isinstance(None, type(thresh)):\n",
    "                thresh = np.mean(v, axis=0)\n",
    "\n",
    "            output[k] = np.where(v >= thresh, 1, 0)\n",
    "    \n",
    "    if isinstance(selected_tracks, type(np.zeros((1, 3)))):\n",
    "        \n",
    "        if isinstance(thresh, type(None)):\n",
    "            thresh = np.mean(selected_tracks, axis=0)\n",
    "            \n",
    "        output = np.where(selected_tracks >= thresh, 1, 0)\n",
    "    \n",
    "    return output"
   ]
  },
  {
   "cell_type": "code",
   "execution_count": 31,
   "id": "4cb8796e",
   "metadata": {},
   "outputs": [],
   "source": [
    "# define some motifs\n",
    "train_motifs = train_info.motif.values   #['TP1', 'TN14722']#region_data.motif.values #['TP1', 'TN14722']\n",
    "test_motifs = test_info.motif.values"
   ]
  },
  {
   "cell_type": "code",
   "execution_count": 12,
   "id": "fb5010d1",
   "metadata": {
    "scrolled": true
   },
   "outputs": [],
   "source": [
    "# this step is slow - needs to be optimized, but it is reading a lot of data, I guess\n",
    "\n",
    "train_enformer_predictions = {}\n",
    "\n",
    "for m in train_motifs:\n",
    "    with open(str(f'{OUTPUT_DIR}/GATA3_reference_{m}_predictions_2022-07-19.pkl'), 'rb') as input_obj:\n",
    "        \n",
    "        gc.disable()\n",
    "        \n",
    "        # just select what you need\n",
    "        temp = cPickle.load(input_obj)[:,[Gata3_first, Gata3_second, Gata3_third]] # selects only GATA3 tracks\n",
    "        \n",
    "        gc.enable()\n",
    "        \n",
    "        m_thresholds = Threshold_tracks(temp) # thresholds them as needed, by average\n",
    "        train_enformer_predictions[m] = m_thresholds\n",
    "        \n",
    "#         for i, track in enumerate([Gata3_first, Gata3_second, Gata3_third]):\n",
    "#             m_thresholds[:, i]\n",
    "    \n",
    "#m_predictions"
   ]
  },
  {
   "cell_type": "code",
   "execution_count": 13,
   "id": "8b79ef98",
   "metadata": {},
   "outputs": [],
   "source": [
    "train_enformer_predictions = {k: np.transpose(v) for k, v in train_enformer_predictions.items()}"
   ]
  },
  {
   "cell_type": "code",
   "execution_count": 18,
   "id": "465b157e",
   "metadata": {},
   "outputs": [
    {
     "data": {
      "text/plain": [
       "(1600, 3, 896)"
      ]
     },
     "execution_count": 18,
     "metadata": {},
     "output_type": "execute_result"
    }
   ],
   "source": [
    "X_train = np.array([v for v in train_enformer_predictions.values()])\n",
    "X_train.shape"
   ]
  },
  {
   "cell_type": "code",
   "execution_count": 20,
   "id": "415d8d5b",
   "metadata": {},
   "outputs": [
    {
     "data": {
      "text/plain": [
       "array([[0, 1, 1, ..., 0, 0, 1],\n",
       "       [1, 1, 1, ..., 1, 1, 1],\n",
       "       [1, 1, 1, ..., 0, 0, 0],\n",
       "       ...,\n",
       "       [0, 1, 1, ..., 1, 1, 0],\n",
       "       [0, 1, 1, ..., 1, 1, 1],\n",
       "       [1, 1, 1, ..., 1, 1, 1]])"
      ]
     },
     "execution_count": 20,
     "metadata": {},
     "output_type": "execute_result"
    }
   ],
   "source": [
    "X_train = np.vstack(X_train)\n",
    "X_train"
   ]
  },
  {
   "cell_type": "code",
   "execution_count": 27,
   "id": "feeaf863",
   "metadata": {},
   "outputs": [
    {
     "data": {
      "text/plain": [
       "array([0, 0, 0, ..., 1, 1, 1])"
      ]
     },
     "execution_count": 27,
     "metadata": {},
     "output_type": "execute_result"
    }
   ],
   "source": [
    "y_train = np.hstack(np.array([[1] * 3 if k.startswith('TP') else [0]*3 for k in train_enformer_predictions.keys()]))\n",
    "y_train"
   ]
  },
  {
   "cell_type": "code",
   "execution_count": 35,
   "id": "422708c6",
   "metadata": {},
   "outputs": [],
   "source": [
    "# this step is slow - needs to be optimized, but it is reading a lot of data, I guess\n",
    "\n",
    "test_enformer_predictions = {}\n",
    "\n",
    "for m in test_motifs:\n",
    "    with open(str(f'{OUTPUT_DIR}/GATA3_reference_{m}_predictions_2022-07-19.pkl'), 'rb') as input_obj:\n",
    "        \n",
    "        gc.disable()\n",
    "        \n",
    "        # just select what you need\n",
    "        temp = cPickle.load(input_obj)[:,[Gata3_first, Gata3_second, Gata3_third]] # selects only GATA3 tracks\n",
    "        \n",
    "        gc.enable()\n",
    "        \n",
    "        m_thresholds = Threshold_tracks(temp) # thresholds them as needed, by average\n",
    "        test_enformer_predictions[m] = m_thresholds\n",
    "        \n",
    "#         for i, track in enumerate([Gata3_first, Gata3_second, Gata3_third]):\n",
    "#             m_thresholds[:, i]\n",
    "    \n",
    "#m_predictions"
   ]
  },
  {
   "cell_type": "code",
   "execution_count": 36,
   "id": "94f40f78",
   "metadata": {},
   "outputs": [
    {
     "data": {
      "text/plain": [
       "((4800, 896), (42798,))"
      ]
     },
     "execution_count": 36,
     "metadata": {},
     "output_type": "execute_result"
    }
   ],
   "source": [
    "test_enformer_predictions = {k: np.transpose(v) for k, v in test_enformer_predictions.items()}\n",
    "X_test = np.array([v for v in test_enformer_predictions.values()])\n",
    "X_test = np.vstack(X_test)\n",
    "y_test = np.hstack(np.array([[1] * 3 if k.startswith('TP') else [0]*3 for k in test_enformer_predictions.keys()]))\n"
   ]
  },
  {
   "cell_type": "code",
   "execution_count": 37,
   "id": "259e9e18",
   "metadata": {},
   "outputs": [
    {
     "data": {
      "text/plain": [
       "((42798, 896), (42798,))"
      ]
     },
     "execution_count": 37,
     "metadata": {},
     "output_type": "execute_result"
    }
   ],
   "source": [
    "X_test.shape, y_test.shape"
   ]
  },
  {
   "cell_type": "code",
   "execution_count": 38,
   "id": "6a92181f",
   "metadata": {},
   "outputs": [
    {
     "data": {
      "text/plain": [
       "(array([[1, 1, 0, ..., 1, 0, 0],\n",
       "        [0, 1, 1, ..., 1, 0, 0],\n",
       "        [0, 0, 0, ..., 1, 0, 0],\n",
       "        ...,\n",
       "        [1, 1, 0, ..., 1, 1, 1],\n",
       "        [0, 0, 0, ..., 1, 0, 0],\n",
       "        [1, 0, 0, ..., 0, 0, 0]]),\n",
       " array([1, 1, 1, ..., 0, 0, 0]))"
      ]
     },
     "execution_count": 38,
     "metadata": {},
     "output_type": "execute_result"
    }
   ],
   "source": [
    "X_test, y_test"
   ]
  },
  {
   "cell_type": "markdown",
   "id": "5927a72f",
   "metadata": {},
   "source": [
    "Save the numpy arrays"
   ]
  },
  {
   "cell_type": "code",
   "execution_count": 40,
   "id": "3f44cec7",
   "metadata": {},
   "outputs": [],
   "source": [
    "# save the data this way; there are other formats like npz\n",
    "\n",
    "np.save(file='/projects/covid-ct/imlab/users/temi/projects/TFXcan/output/train-test-data/X_test.npy', arr=X_test)\n",
    "np.save(file='/projects/covid-ct/imlab/users/temi/projects/TFXcan/output/train-test-data/y_test.npy', arr=y_test)\n",
    "np.save(file='/projects/covid-ct/imlab/users/temi/projects/TFXcan/output/train-test-data/X_train.npy', arr=X_train)\n",
    "np.save(file='/projects/covid-ct/imlab/users/temi/projects/TFXcan/output/train-test-data/y_train.npy', arr=y_train)"
   ]
  },
  {
   "cell_type": "code",
   "execution_count": 41,
   "id": "a051712d",
   "metadata": {},
   "outputs": [],
   "source": [
    "# load in the data this way\n",
    "\n",
    "train_test_dir = '/projects/covid-ct/imlab/users/temi/projects/TFXcan/output/train-test-data'\n",
    "X_train = np.load(f'{train_test_dir}/X_train.npy')\n",
    "y_train = np.load(f'{train_test_dir}/y_train.npy')\n",
    "X_test = np.load(f'{train_test_dir}/X_test.npy')\n",
    "y_test = np.load(f'{train_test_dir}/y_test.npy')"
   ]
  },
  {
   "cell_type": "code",
   "execution_count": 55,
   "id": "8f85c12a",
   "metadata": {},
   "outputs": [
    {
     "data": {
      "text/plain": [
       "LogisticRegressionCV(cv=3, l1_ratios=[0.1, 0.5, 0.9], max_iter=1000,\n",
       "                     penalty='elasticnet', solver='saga')"
      ]
     },
     "execution_count": 55,
     "metadata": {},
     "output_type": "execute_result"
    }
   ],
   "source": [
    "# Basic LogisticRegression algorithm\n",
    "logistic_regression_classifier = LogisticRegressionCV(cv=3, max_iter=1000)\n",
    "# SAGA should be considered more advanced and used over SAG. For more information, see: https://stackoverflow.com/questions/38640109/logistic-regression-python-solvers-defintions\n",
    "# Note, you should probably tune this, these values are arbitrary\n",
    "elastic_net_classifier = LogisticRegressionCV(cv=3, penalty='elasticnet', l1_ratios=[0.1, 0.5, 0.9], solver='saga', max_iter=1000)\n",
    "\n",
    "# Train the models\n",
    "logistic_regression_classifier.fit(X_train, y_train)\n",
    "elastic_net_classifier.fit(X_train, y_train)"
   ]
  },
  {
   "cell_type": "code",
   "execution_count": 56,
   "id": "76ccb821",
   "metadata": {},
   "outputs": [
    {
     "name": "stdout",
     "output_type": "stream",
     "text": [
      "Logistic Regression: 0.7311790270573392 || Elasticnet: 0.7237721388849946\n"
     ]
    }
   ],
   "source": [
    "# Test the models\n",
    "print(\"Logistic Regression: {} || Elasticnet: {}\".format(logistic_regression_classifier.score(X_test, y_test), elastic_net_classifier.score(X_test, y_test)))"
   ]
  },
  {
   "cell_type": "code",
   "execution_count": 57,
   "id": "34750ba0",
   "metadata": {},
   "outputs": [
    {
     "name": "stdout",
     "output_type": "stream",
     "text": [
      "Logistic Regression\n",
      "              precision    recall  f1-score   support\n",
      "\n",
      "           0       0.99      0.73      0.84     41556\n",
      "           1       0.08      0.77      0.14      1242\n",
      "\n",
      "    accuracy                           0.73     42798\n",
      "   macro avg       0.53      0.75      0.49     42798\n",
      "weighted avg       0.96      0.73      0.82     42798\n",
      "\n",
      "Elastic Net\n",
      "              precision    recall  f1-score   support\n",
      "\n",
      "           0       0.99      0.72      0.84     41556\n",
      "           1       0.08      0.84      0.15      1242\n",
      "\n",
      "    accuracy                           0.72     42798\n",
      "   macro avg       0.54      0.78      0.49     42798\n",
      "weighted avg       0.97      0.72      0.82     42798\n",
      "\n"
     ]
    }
   ],
   "source": [
    "# Print out some more metrics\n",
    "print(\"Logistic Regression\")\n",
    "print(classification_report(y_test, logistic_regression_classifier.predict(X_test)))\n",
    "print(\"Elastic Net\")\n",
    "print(classification_report(y_test, elastic_net_classifier.predict(X_test)))"
   ]
  },
  {
   "cell_type": "code",
   "execution_count": 67,
   "id": "07f36180",
   "metadata": {},
   "outputs": [
    {
     "data": {
      "text/plain": [
       "array([ 0.00000000e+00,  0.00000000e+00,  0.00000000e+00,  0.00000000e+00,\n",
       "        0.00000000e+00,  0.00000000e+00,  0.00000000e+00,  0.00000000e+00,\n",
       "        0.00000000e+00,  0.00000000e+00,  0.00000000e+00,  0.00000000e+00,\n",
       "        0.00000000e+00,  9.91441597e-02,  0.00000000e+00,  0.00000000e+00,\n",
       "        0.00000000e+00,  0.00000000e+00,  0.00000000e+00,  0.00000000e+00,\n",
       "        0.00000000e+00,  0.00000000e+00,  0.00000000e+00,  0.00000000e+00,\n",
       "        0.00000000e+00,  0.00000000e+00,  0.00000000e+00,  0.00000000e+00,\n",
       "        0.00000000e+00, -2.41297178e-02,  0.00000000e+00,  0.00000000e+00,\n",
       "        0.00000000e+00,  0.00000000e+00,  0.00000000e+00,  0.00000000e+00,\n",
       "        0.00000000e+00,  0.00000000e+00,  0.00000000e+00,  0.00000000e+00,\n",
       "        0.00000000e+00,  0.00000000e+00,  0.00000000e+00,  0.00000000e+00,\n",
       "        0.00000000e+00, -3.95458963e-02,  0.00000000e+00,  0.00000000e+00,\n",
       "       -3.17802059e-02,  0.00000000e+00,  0.00000000e+00,  0.00000000e+00,\n",
       "        0.00000000e+00, -2.18039404e-02,  0.00000000e+00,  0.00000000e+00,\n",
       "        0.00000000e+00,  0.00000000e+00,  0.00000000e+00,  0.00000000e+00,\n",
       "        0.00000000e+00,  0.00000000e+00,  0.00000000e+00,  0.00000000e+00,\n",
       "        0.00000000e+00,  0.00000000e+00,  0.00000000e+00,  0.00000000e+00,\n",
       "        0.00000000e+00,  0.00000000e+00,  0.00000000e+00,  0.00000000e+00,\n",
       "        0.00000000e+00,  0.00000000e+00,  0.00000000e+00,  0.00000000e+00,\n",
       "        0.00000000e+00,  0.00000000e+00,  0.00000000e+00,  0.00000000e+00,\n",
       "        0.00000000e+00,  0.00000000e+00,  0.00000000e+00,  0.00000000e+00,\n",
       "        0.00000000e+00,  0.00000000e+00,  0.00000000e+00,  0.00000000e+00,\n",
       "        0.00000000e+00,  0.00000000e+00,  0.00000000e+00, -5.87952382e-03,\n",
       "        0.00000000e+00,  0.00000000e+00,  1.64920949e-02,  8.32311290e-02,\n",
       "        5.61247876e-02,  0.00000000e+00,  0.00000000e+00,  1.39961854e-02,\n",
       "        0.00000000e+00,  0.00000000e+00,  0.00000000e+00,  0.00000000e+00,\n",
       "        0.00000000e+00,  3.48895200e-02,  0.00000000e+00,  0.00000000e+00,\n",
       "        0.00000000e+00,  0.00000000e+00, -2.91589224e-02,  0.00000000e+00,\n",
       "        0.00000000e+00, -7.42783232e-08,  0.00000000e+00,  0.00000000e+00,\n",
       "        0.00000000e+00,  0.00000000e+00,  0.00000000e+00,  0.00000000e+00,\n",
       "        0.00000000e+00,  0.00000000e+00,  0.00000000e+00,  0.00000000e+00,\n",
       "       -8.71981600e-02, -7.50163227e-02,  0.00000000e+00,  0.00000000e+00,\n",
       "        0.00000000e+00,  1.65796141e-02,  0.00000000e+00,  0.00000000e+00,\n",
       "        0.00000000e+00,  0.00000000e+00,  0.00000000e+00,  0.00000000e+00,\n",
       "        0.00000000e+00,  0.00000000e+00,  0.00000000e+00,  0.00000000e+00,\n",
       "        0.00000000e+00,  0.00000000e+00,  0.00000000e+00,  0.00000000e+00,\n",
       "       -1.63500085e-02,  0.00000000e+00,  0.00000000e+00, -5.91335823e-02,\n",
       "        0.00000000e+00,  0.00000000e+00,  0.00000000e+00,  0.00000000e+00,\n",
       "        0.00000000e+00,  0.00000000e+00,  0.00000000e+00,  0.00000000e+00,\n",
       "        0.00000000e+00,  0.00000000e+00,  0.00000000e+00,  0.00000000e+00,\n",
       "        0.00000000e+00,  0.00000000e+00,  0.00000000e+00,  0.00000000e+00,\n",
       "        0.00000000e+00,  0.00000000e+00,  0.00000000e+00,  0.00000000e+00,\n",
       "        0.00000000e+00,  0.00000000e+00,  0.00000000e+00,  0.00000000e+00,\n",
       "        0.00000000e+00,  0.00000000e+00,  0.00000000e+00,  4.02117203e-02,\n",
       "        0.00000000e+00,  0.00000000e+00,  0.00000000e+00,  0.00000000e+00,\n",
       "        0.00000000e+00,  0.00000000e+00,  0.00000000e+00,  0.00000000e+00,\n",
       "        0.00000000e+00,  0.00000000e+00,  0.00000000e+00,  1.50995815e-02,\n",
       "        2.66667353e-02,  0.00000000e+00,  0.00000000e+00, -8.55017498e-03,\n",
       "        0.00000000e+00,  0.00000000e+00, -7.65918170e-02,  0.00000000e+00,\n",
       "        0.00000000e+00,  0.00000000e+00, -5.43674497e-03,  0.00000000e+00,\n",
       "        0.00000000e+00,  0.00000000e+00,  0.00000000e+00,  0.00000000e+00,\n",
       "        0.00000000e+00, -3.41054717e-02,  0.00000000e+00,  0.00000000e+00,\n",
       "        0.00000000e+00,  9.89139296e-04,  0.00000000e+00,  0.00000000e+00,\n",
       "        0.00000000e+00, -2.09171437e-02, -4.03346246e-02, -4.67442532e-02,\n",
       "        0.00000000e+00,  0.00000000e+00,  0.00000000e+00, -1.57689041e-02,\n",
       "        0.00000000e+00,  0.00000000e+00,  0.00000000e+00,  0.00000000e+00,\n",
       "       -1.36229065e-02,  0.00000000e+00,  0.00000000e+00, -6.84765577e-02,\n",
       "        0.00000000e+00,  0.00000000e+00,  0.00000000e+00,  0.00000000e+00,\n",
       "       -1.04001220e-03, -1.81817080e-02,  0.00000000e+00,  0.00000000e+00,\n",
       "        0.00000000e+00, -1.83448506e-02,  0.00000000e+00,  0.00000000e+00,\n",
       "        0.00000000e+00,  0.00000000e+00, -4.25830879e-02,  0.00000000e+00,\n",
       "        0.00000000e+00,  0.00000000e+00, -1.28999987e-01,  0.00000000e+00,\n",
       "        0.00000000e+00,  0.00000000e+00,  0.00000000e+00, -4.60829334e-03,\n",
       "        0.00000000e+00, -3.20355680e-02,  0.00000000e+00,  0.00000000e+00,\n",
       "        0.00000000e+00,  0.00000000e+00,  0.00000000e+00,  0.00000000e+00,\n",
       "       -1.10110423e-01,  0.00000000e+00,  0.00000000e+00,  0.00000000e+00,\n",
       "        0.00000000e+00,  0.00000000e+00,  0.00000000e+00,  0.00000000e+00,\n",
       "        0.00000000e+00,  0.00000000e+00,  0.00000000e+00,  0.00000000e+00,\n",
       "        0.00000000e+00,  0.00000000e+00,  0.00000000e+00,  0.00000000e+00,\n",
       "        0.00000000e+00,  0.00000000e+00,  0.00000000e+00,  0.00000000e+00,\n",
       "       -3.41877071e-02,  0.00000000e+00,  0.00000000e+00,  0.00000000e+00,\n",
       "        0.00000000e+00,  0.00000000e+00,  0.00000000e+00,  0.00000000e+00,\n",
       "        0.00000000e+00,  0.00000000e+00,  0.00000000e+00,  0.00000000e+00,\n",
       "       -4.26654009e-02,  0.00000000e+00,  0.00000000e+00,  0.00000000e+00,\n",
       "        0.00000000e+00,  0.00000000e+00,  0.00000000e+00, -4.91284226e-02,\n",
       "       -5.31997229e-02,  0.00000000e+00,  0.00000000e+00,  0.00000000e+00,\n",
       "       -1.06533499e-02,  0.00000000e+00,  0.00000000e+00,  0.00000000e+00,\n",
       "        0.00000000e+00,  0.00000000e+00, -7.65073352e-02,  0.00000000e+00,\n",
       "        0.00000000e+00,  3.06474833e-02,  0.00000000e+00,  0.00000000e+00,\n",
       "        0.00000000e+00,  0.00000000e+00,  0.00000000e+00,  0.00000000e+00,\n",
       "        0.00000000e+00,  0.00000000e+00,  0.00000000e+00,  0.00000000e+00,\n",
       "        0.00000000e+00,  0.00000000e+00, -9.09566502e-02,  0.00000000e+00,\n",
       "       -1.14861503e-02,  0.00000000e+00,  0.00000000e+00,  0.00000000e+00,\n",
       "        5.43848492e-02,  0.00000000e+00,  0.00000000e+00,  0.00000000e+00,\n",
       "        0.00000000e+00, -7.22672695e-02,  0.00000000e+00,  0.00000000e+00,\n",
       "        0.00000000e+00,  0.00000000e+00,  0.00000000e+00,  0.00000000e+00,\n",
       "        0.00000000e+00,  0.00000000e+00,  0.00000000e+00,  0.00000000e+00,\n",
       "        0.00000000e+00,  0.00000000e+00,  0.00000000e+00, -1.17579383e-01,\n",
       "       -2.67371498e-02,  0.00000000e+00,  0.00000000e+00,  0.00000000e+00,\n",
       "        0.00000000e+00,  0.00000000e+00,  0.00000000e+00, -9.31309491e-03,\n",
       "       -9.18413979e-02,  0.00000000e+00,  0.00000000e+00,  0.00000000e+00,\n",
       "        0.00000000e+00,  0.00000000e+00, -2.46466663e-02,  0.00000000e+00,\n",
       "        0.00000000e+00,  0.00000000e+00,  0.00000000e+00, -1.31044895e-01,\n",
       "        0.00000000e+00, -1.96811643e-02,  0.00000000e+00, -3.57356692e-02,\n",
       "        0.00000000e+00,  0.00000000e+00,  0.00000000e+00,  0.00000000e+00,\n",
       "        0.00000000e+00,  0.00000000e+00,  0.00000000e+00,  0.00000000e+00,\n",
       "        0.00000000e+00, -5.52548190e-02,  0.00000000e+00,  0.00000000e+00,\n",
       "        0.00000000e+00,  0.00000000e+00,  0.00000000e+00, -2.45079047e-02,\n",
       "        0.00000000e+00,  0.00000000e+00,  0.00000000e+00,  1.30530329e-02,\n",
       "        5.78593804e-03,  0.00000000e+00,  0.00000000e+00,  0.00000000e+00,\n",
       "        1.19732027e-02,  0.00000000e+00,  0.00000000e+00,  0.00000000e+00,\n",
       "        0.00000000e+00, -1.08200284e-01,  0.00000000e+00,  0.00000000e+00,\n",
       "        0.00000000e+00, -9.55646779e-02,  0.00000000e+00,  0.00000000e+00,\n",
       "        0.00000000e+00,  0.00000000e+00,  0.00000000e+00,  0.00000000e+00,\n",
       "       -9.83055714e-02,  0.00000000e+00,  0.00000000e+00,  0.00000000e+00,\n",
       "        0.00000000e+00,  0.00000000e+00,  0.00000000e+00,  0.00000000e+00,\n",
       "        2.92565913e-02,  0.00000000e+00,  0.00000000e+00, -9.88682866e-02,\n",
       "        0.00000000e+00,  0.00000000e+00, -4.86099021e-02,  0.00000000e+00,\n",
       "        0.00000000e+00,  0.00000000e+00,  0.00000000e+00,  0.00000000e+00,\n",
       "        0.00000000e+00, -4.17484771e-02,  0.00000000e+00,  0.00000000e+00,\n",
       "        0.00000000e+00,  0.00000000e+00, -1.52118215e-01,  0.00000000e+00,\n",
       "       -5.26667120e-02,  0.00000000e+00,  4.48920588e-01,  1.53199901e+00,\n",
       "        1.39442204e+00,  3.06433857e-01,  0.00000000e+00,  0.00000000e+00,\n",
       "       -9.31753039e-02,  0.00000000e+00, -2.98032278e-02,  0.00000000e+00,\n",
       "        0.00000000e+00, -5.35443587e-02,  0.00000000e+00,  0.00000000e+00,\n",
       "        0.00000000e+00, -1.67881439e-01, -5.61095285e-02,  0.00000000e+00,\n",
       "       -4.41294740e-02, -2.69324808e-02,  0.00000000e+00,  0.00000000e+00,\n",
       "       -1.87842243e-02, -1.08523032e-01, -1.72883698e-02,  0.00000000e+00,\n",
       "        0.00000000e+00,  0.00000000e+00,  0.00000000e+00,  0.00000000e+00,\n",
       "        0.00000000e+00,  0.00000000e+00,  0.00000000e+00,  0.00000000e+00,\n",
       "        0.00000000e+00,  0.00000000e+00,  0.00000000e+00,  0.00000000e+00,\n",
       "        0.00000000e+00, -7.29451586e-02,  0.00000000e+00,  0.00000000e+00,\n",
       "        0.00000000e+00,  0.00000000e+00,  0.00000000e+00, -2.65433994e-02,\n",
       "        0.00000000e+00,  0.00000000e+00,  0.00000000e+00,  0.00000000e+00,\n",
       "        0.00000000e+00,  0.00000000e+00,  0.00000000e+00,  0.00000000e+00,\n",
       "        0.00000000e+00,  0.00000000e+00, -1.12178707e-01, -4.08863317e-02,\n",
       "        0.00000000e+00,  0.00000000e+00,  0.00000000e+00, -5.66453383e-02,\n",
       "        0.00000000e+00, -2.56684786e-02,  0.00000000e+00,  0.00000000e+00,\n",
       "        0.00000000e+00,  0.00000000e+00, -6.15574700e-02, -1.22311658e-02,\n",
       "        0.00000000e+00,  0.00000000e+00,  0.00000000e+00,  0.00000000e+00,\n",
       "        0.00000000e+00,  0.00000000e+00,  0.00000000e+00,  0.00000000e+00,\n",
       "       -1.21682253e-01,  0.00000000e+00,  0.00000000e+00,  0.00000000e+00,\n",
       "        0.00000000e+00,  0.00000000e+00, -4.74550984e-02, -2.66239529e-02,\n",
       "        0.00000000e+00, -1.20283169e-01,  0.00000000e+00,  0.00000000e+00,\n",
       "        0.00000000e+00,  0.00000000e+00,  0.00000000e+00, -4.43170802e-04,\n",
       "        0.00000000e+00,  0.00000000e+00,  0.00000000e+00, -1.21016929e-02,\n",
       "        0.00000000e+00,  0.00000000e+00,  8.48697845e-03,  2.43379748e-02,\n",
       "        0.00000000e+00,  0.00000000e+00, -1.23891234e-01, -6.31130168e-03,\n",
       "        0.00000000e+00,  0.00000000e+00,  0.00000000e+00,  0.00000000e+00,\n",
       "        2.78455851e-02,  0.00000000e+00,  0.00000000e+00,  0.00000000e+00,\n",
       "        0.00000000e+00, -1.17836800e-01,  0.00000000e+00,  0.00000000e+00,\n",
       "        0.00000000e+00,  0.00000000e+00,  0.00000000e+00,  0.00000000e+00,\n",
       "        0.00000000e+00,  0.00000000e+00, -5.50054963e-02,  0.00000000e+00,\n",
       "        0.00000000e+00,  0.00000000e+00,  0.00000000e+00,  0.00000000e+00,\n",
       "        0.00000000e+00,  0.00000000e+00,  0.00000000e+00,  0.00000000e+00,\n",
       "        0.00000000e+00,  0.00000000e+00,  0.00000000e+00,  0.00000000e+00,\n",
       "        0.00000000e+00,  0.00000000e+00,  0.00000000e+00,  0.00000000e+00,\n",
       "        3.74257498e-02,  0.00000000e+00,  0.00000000e+00,  0.00000000e+00,\n",
       "       -4.44732505e-03,  0.00000000e+00,  0.00000000e+00,  0.00000000e+00,\n",
       "        0.00000000e+00,  0.00000000e+00,  0.00000000e+00,  0.00000000e+00,\n",
       "       -5.51485817e-02,  0.00000000e+00, -1.19197906e-01,  0.00000000e+00,\n",
       "        0.00000000e+00,  0.00000000e+00,  0.00000000e+00,  0.00000000e+00,\n",
       "        0.00000000e+00,  0.00000000e+00,  0.00000000e+00,  0.00000000e+00,\n",
       "        0.00000000e+00,  0.00000000e+00,  0.00000000e+00,  0.00000000e+00,\n",
       "       -5.45764371e-02, -1.94528223e-02,  0.00000000e+00,  0.00000000e+00,\n",
       "        0.00000000e+00,  0.00000000e+00,  0.00000000e+00,  0.00000000e+00,\n",
       "       -2.11815561e-01,  0.00000000e+00, -9.13656593e-02,  0.00000000e+00,\n",
       "       -7.88159625e-02,  0.00000000e+00,  0.00000000e+00,  0.00000000e+00,\n",
       "        0.00000000e+00,  0.00000000e+00,  0.00000000e+00, -4.16336179e-02,\n",
       "       -1.01906476e-01,  0.00000000e+00,  0.00000000e+00,  0.00000000e+00,\n",
       "        0.00000000e+00,  0.00000000e+00,  0.00000000e+00,  0.00000000e+00,\n",
       "        0.00000000e+00, -2.66217623e-02, -2.68316777e-02,  0.00000000e+00,\n",
       "        0.00000000e+00,  0.00000000e+00,  0.00000000e+00,  0.00000000e+00,\n",
       "       -1.20435517e-02,  0.00000000e+00,  0.00000000e+00,  0.00000000e+00,\n",
       "        0.00000000e+00,  0.00000000e+00,  0.00000000e+00,  0.00000000e+00,\n",
       "       -2.75400298e-03,  0.00000000e+00,  0.00000000e+00,  0.00000000e+00,\n",
       "        0.00000000e+00,  0.00000000e+00,  0.00000000e+00,  0.00000000e+00,\n",
       "        1.03750313e-01,  0.00000000e+00, -9.89598691e-02,  0.00000000e+00,\n",
       "       -4.70318229e-02,  0.00000000e+00,  0.00000000e+00,  0.00000000e+00,\n",
       "        0.00000000e+00,  0.00000000e+00,  0.00000000e+00,  0.00000000e+00,\n",
       "        0.00000000e+00,  0.00000000e+00,  0.00000000e+00,  0.00000000e+00,\n",
       "        0.00000000e+00,  0.00000000e+00,  0.00000000e+00, -7.71859788e-02,\n",
       "        0.00000000e+00,  0.00000000e+00,  0.00000000e+00,  0.00000000e+00,\n",
       "        0.00000000e+00,  0.00000000e+00,  0.00000000e+00,  0.00000000e+00,\n",
       "        0.00000000e+00,  2.92139643e-02,  0.00000000e+00,  0.00000000e+00,\n",
       "        0.00000000e+00,  0.00000000e+00,  0.00000000e+00,  0.00000000e+00,\n",
       "        0.00000000e+00,  0.00000000e+00,  0.00000000e+00,  0.00000000e+00,\n",
       "        0.00000000e+00,  0.00000000e+00,  0.00000000e+00,  0.00000000e+00,\n",
       "        3.30781521e-04,  0.00000000e+00,  2.56513026e-02,  0.00000000e+00,\n",
       "        0.00000000e+00,  0.00000000e+00,  0.00000000e+00,  0.00000000e+00,\n",
       "        0.00000000e+00,  0.00000000e+00,  0.00000000e+00,  0.00000000e+00,\n",
       "        7.22925936e-02,  0.00000000e+00,  0.00000000e+00,  0.00000000e+00,\n",
       "        0.00000000e+00,  0.00000000e+00,  0.00000000e+00,  0.00000000e+00,\n",
       "        0.00000000e+00,  0.00000000e+00,  0.00000000e+00,  0.00000000e+00,\n",
       "        0.00000000e+00,  0.00000000e+00, -5.48755073e-02,  0.00000000e+00,\n",
       "        0.00000000e+00,  0.00000000e+00,  0.00000000e+00,  6.35987564e-02,\n",
       "        0.00000000e+00,  0.00000000e+00,  0.00000000e+00,  0.00000000e+00,\n",
       "        0.00000000e+00,  8.36759731e-02,  2.37837712e-02,  0.00000000e+00,\n",
       "        0.00000000e+00,  0.00000000e+00,  0.00000000e+00,  0.00000000e+00,\n",
       "        0.00000000e+00,  0.00000000e+00,  0.00000000e+00,  0.00000000e+00,\n",
       "        0.00000000e+00,  0.00000000e+00,  0.00000000e+00,  0.00000000e+00,\n",
       "       -1.10249939e-02,  0.00000000e+00,  0.00000000e+00, -4.96577136e-02,\n",
       "        0.00000000e+00,  0.00000000e+00,  0.00000000e+00,  0.00000000e+00,\n",
       "        0.00000000e+00,  0.00000000e+00,  3.75314025e-02,  0.00000000e+00,\n",
       "        0.00000000e+00,  0.00000000e+00,  0.00000000e+00,  0.00000000e+00,\n",
       "        5.18722205e-02,  0.00000000e+00,  4.52398581e-02,  0.00000000e+00,\n",
       "        0.00000000e+00,  0.00000000e+00,  0.00000000e+00,  0.00000000e+00,\n",
       "        8.92335176e-03,  0.00000000e+00,  0.00000000e+00,  0.00000000e+00,\n",
       "        0.00000000e+00,  0.00000000e+00,  0.00000000e+00,  0.00000000e+00,\n",
       "        0.00000000e+00,  0.00000000e+00,  0.00000000e+00,  0.00000000e+00,\n",
       "        0.00000000e+00,  0.00000000e+00,  0.00000000e+00,  0.00000000e+00,\n",
       "       -2.05279036e-02,  0.00000000e+00,  0.00000000e+00,  0.00000000e+00,\n",
       "        0.00000000e+00,  0.00000000e+00,  0.00000000e+00,  0.00000000e+00,\n",
       "       -2.19339116e-03,  0.00000000e+00,  0.00000000e+00,  0.00000000e+00,\n",
       "        2.15457890e-02,  0.00000000e+00,  0.00000000e+00,  0.00000000e+00,\n",
       "        0.00000000e+00,  0.00000000e+00,  0.00000000e+00, -8.32540984e-02,\n",
       "        0.00000000e+00,  0.00000000e+00,  0.00000000e+00,  0.00000000e+00,\n",
       "        0.00000000e+00,  0.00000000e+00,  9.07256087e-03,  1.85233391e-02,\n",
       "        0.00000000e+00,  0.00000000e+00,  0.00000000e+00,  0.00000000e+00,\n",
       "        0.00000000e+00,  0.00000000e+00,  0.00000000e+00,  0.00000000e+00,\n",
       "        0.00000000e+00,  0.00000000e+00,  0.00000000e+00,  0.00000000e+00,\n",
       "        0.00000000e+00,  0.00000000e+00,  0.00000000e+00,  0.00000000e+00,\n",
       "        0.00000000e+00,  0.00000000e+00,  0.00000000e+00,  0.00000000e+00,\n",
       "        0.00000000e+00, -2.08100029e-02,  0.00000000e+00, -5.97562374e-02,\n",
       "        0.00000000e+00,  0.00000000e+00,  0.00000000e+00,  0.00000000e+00,\n",
       "        0.00000000e+00,  0.00000000e+00, -8.27391975e-03, -6.14134201e-03,\n",
       "        0.00000000e+00, -4.96505321e-02,  0.00000000e+00,  0.00000000e+00,\n",
       "        0.00000000e+00,  0.00000000e+00, -4.95055504e-02,  0.00000000e+00,\n",
       "       -9.42471596e-02,  0.00000000e+00,  0.00000000e+00,  0.00000000e+00,\n",
       "        0.00000000e+00,  0.00000000e+00,  0.00000000e+00,  0.00000000e+00,\n",
       "        0.00000000e+00, -8.13467729e-02, -4.60832033e-03,  0.00000000e+00,\n",
       "        1.05148758e-01,  0.00000000e+00,  0.00000000e+00, -1.84636703e-02,\n",
       "        0.00000000e+00,  0.00000000e+00,  0.00000000e+00,  0.00000000e+00,\n",
       "        0.00000000e+00, -1.09169061e-01,  0.00000000e+00,  0.00000000e+00])"
      ]
     },
     "execution_count": 67,
     "metadata": {},
     "output_type": "execute_result"
    }
   ],
   "source": [
    "elastic_net_classifier.coef_[0]"
   ]
  },
  {
   "cell_type": "code",
   "execution_count": null,
   "id": "891bfe7b",
   "metadata": {},
   "outputs": [],
   "source": []
  },
  {
   "cell_type": "code",
   "execution_count": 47,
   "id": "969a811a",
   "metadata": {},
   "outputs": [
    {
     "data": {
      "text/plain": [
       "ElasticNet()"
      ]
     },
     "execution_count": 47,
     "metadata": {},
     "output_type": "execute_result"
    }
   ],
   "source": [
    "model.fit(X_train, y_train)"
   ]
  },
  {
   "cell_type": "code",
   "execution_count": 50,
   "id": "d569e655",
   "metadata": {},
   "outputs": [
    {
     "data": {
      "text/plain": [
       "array([0.5, 0.5, 0.5, ..., 0.5, 0.5, 0.5])"
      ]
     },
     "execution_count": 50,
     "metadata": {},
     "output_type": "execute_result"
    }
   ],
   "source": [
    "predictions = model.predict(X_test)\n",
    "predictions"
   ]
  },
  {
   "cell_type": "code",
   "execution_count": 49,
   "id": "62859b19",
   "metadata": {},
   "outputs": [
    {
     "data": {
      "text/plain": [
       "array([0.5, 0.5, 0.5, ..., 0.5, 0.5, 0.5])"
      ]
     },
     "execution_count": 49,
     "metadata": {},
     "output_type": "execute_result"
    }
   ],
   "source": []
  },
  {
   "cell_type": "code",
   "execution_count": null,
   "id": "9c04aa44",
   "metadata": {},
   "outputs": [],
   "source": [
    "a0 = Threshold_tracks(GATA3_tracks['TP1']['HG00096'])[0][:, 0]\n",
    "b0 = Threshold_tracks(GATA3_tracks['TP2']['HG00096'])[0][:, 0]\n",
    "c0 = Threshold_tracks(GATA3_tracks['TN10267']['HG00096'])[0][:, 0]\n",
    "d0 = Threshold_tracks(GATA3_tracks['TN9464']['HG00096'])[0][:, 0]\n",
    "\n",
    "a1 = Threshold_tracks(GATA3_tracks['TP1']['HG00096'])[0][:, 1]\n",
    "b1 = Threshold_tracks(GATA3_tracks['TP2']['HG00096'])[0][:, 1]\n",
    "c1 = Threshold_tracks(GATA3_tracks['TN10267']['HG00096'])[0][:, 1]\n",
    "d1 = Threshold_tracks(GATA3_tracks['TN9464']['HG00096'])[0][:, 1]\n",
    "\n",
    "a2 = Threshold_tracks(GATA3_tracks['TP1']['HG00096'])[0][:, 2]\n",
    "b2 = Threshold_tracks(GATA3_tracks['TP2']['HG00096'])[0][:, 2]\n",
    "c2 = Threshold_tracks(GATA3_tracks['TN10267']['HG00096'])[0][:, 2]\n",
    "d2 = Threshold_tracks(GATA3_tracks['TN9464']['HG00096'])[0][:, 2]"
   ]
  },
  {
   "cell_type": "code",
   "execution_count": null,
   "id": "375be049",
   "metadata": {},
   "outputs": [],
   "source": [
    "X = np.row_stack((a0, b0, c0, d0, a1, b1, c1, d1, a2, b2, c2, d2))\n",
    "y = np.array([1,1,0,0, 1,1,0,0, 1,1,0,0])"
   ]
  },
  {
   "cell_type": "code",
   "execution_count": null,
   "id": "abe55988",
   "metadata": {},
   "outputs": [],
   "source": [
    "X"
   ]
  },
  {
   "cell_type": "code",
   "execution_count": null,
   "id": "8c64c9d6",
   "metadata": {},
   "outputs": [],
   "source": [
    "y"
   ]
  },
  {
   "cell_type": "code",
   "execution_count": null,
   "id": "bcf7b5a5",
   "metadata": {},
   "outputs": [],
   "source": []
  }
 ],
 "metadata": {
  "kernelspec": {
   "display_name": "Python 3 (ipykernel)",
   "language": "python",
   "name": "python3"
  },
  "language_info": {
   "codemirror_mode": {
    "name": "ipython",
    "version": 3
   },
   "file_extension": ".py",
   "mimetype": "text/x-python",
   "name": "python",
   "nbconvert_exporter": "python",
   "pygments_lexer": "ipython3",
   "version": "3.7.4"
  }
 },
 "nbformat": 4,
 "nbformat_minor": 5
}
