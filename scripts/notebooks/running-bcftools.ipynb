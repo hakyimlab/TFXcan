{
 "cells": [
  {
   "cell_type": "code",
   "execution_count": 1,
   "metadata": {},
   "outputs": [],
   "source": [
    "import pandas as pd\n",
    "import numpy as np\n",
    "import os, sys, re\n",
    "import h5py\n",
    "import subprocess\n",
    "import pysam\n"
   ]
  },
  {
   "cell_type": "code",
   "execution_count": 2,
   "metadata": {},
   "outputs": [
    {
     "data": {
      "text/plain": [
       "'/lus/theta-fs0/projects/covid-ct/imlab/users/temi/projects/TFXcan/scripts'"
      ]
     },
     "execution_count": 2,
     "metadata": {},
     "output_type": "execute_result"
    }
   ],
   "source": [
    "os.getcwd()"
   ]
  },
  {
   "cell_type": "code",
   "execution_count": 3,
   "metadata": {},
   "outputs": [],
   "source": [
    "vcf_file = '../prj6_genotypes/merged_phased_SNPs.vcf.gz'\n",
    "path_to_bcftools = \"/home/temi/miniconda3/envs/compbio-tools/bin/bcftools\""
   ]
  },
  {
   "cell_type": "code",
   "execution_count": 7,
   "metadata": {},
   "outputs": [
    {
     "data": {
      "text/plain": [
       "\"/home/temi/miniconda3/envs/compbio-tools/bin/bcftools query -f '%CHROM\\t%POS\\t%REF\\t%ALT[\\t%GT]\\n' -s LuCaP_141,LuCaP_145,LuCaP_167 ../prj6_genotypes/merged_phased_SNPs.vcf.gz | head -n 20\""
      ]
     },
     "execution_count": 7,
     "metadata": {},
     "output_type": "execute_result"
    }
   ],
   "source": [
    "samples = ['LuCaP_141', 'LuCaP_145', 'LuCaP_167']\n",
    "region = 'chr10:1-200000'\n",
    "view_cmd = f\"{path_to_bcftools} query -f '%CHROM\\t%POS\\t%REF\\t%ALT[\\t%GT]\\n' -s {','.join(samples)} {vcf_file} | head -n 20\" #| view -H -r {region} - {vcf_file}\"\n",
    "view_cmd"
   ]
  },
  {
   "cell_type": "code",
   "execution_count": 21,
   "metadata": {},
   "outputs": [
    {
     "data": {
      "text/plain": [
       "'chr1\\t10247\\tT\\tC\\t0|0\\t0|0\\t1|1\\nchr1\\t10248\\tA\\tT\\t0|0\\t0|0\\t1|1\\nchr1\\t10463\\tA\\tC\\t0|0\\t1|0\\t0|0\\nchr1\\t10492\\tC\\tT\\t1|0\\t0|0\\t0|1\\nchr1\\t13273\\tG\\tC\\t0|0\\t0|0\\t0|0\\nchr1\\t13418\\tG\\tA\\t1|0\\t0|0\\t0|0\\nchr1\\t13550\\tG\\tA\\t0|0\\t0|1\\t0|0\\nchr1\\t13613\\tT\\tA\\t0|0\\t0|0\\t0|0\\nchr1\\t13684\\tC\\tT\\t0|0\\t0|0\\t0|0\\nchr1\\t13813\\tT\\tG\\t0|0\\t0|1\\t0|0\\nchr1\\t13838\\tC\\tT\\t0|0\\t0|1\\t0|0\\nchr1\\t13868\\tA\\tG\\t0|0\\t1|1\\t0|1\\nchr1\\t13912\\tG\\tA\\t0|0\\t0|0\\t0|0\\nchr1\\t14210\\tG\\tA\\t0|0\\t0|0\\t0|0\\nchr1\\t14464\\tA\\tT\\t0|0\\t1|0\\t0|1\\nchr1\\t14470\\tG\\tA\\t0|0\\t0|0\\t0|0\\nchr1\\t14574\\tA\\tG\\t0|0\\t0|0\\t0|0\\nchr1\\t14590\\tG\\tA\\t0|0\\t0|0\\t0|0\\nchr1\\t14599\\tT\\tA\\t0|0\\t0|0\\t0|0\\nchr1\\t14604\\tA\\tG\\t0|0\\t0|0\\t0|0'"
      ]
     },
     "execution_count": 21,
     "metadata": {},
     "output_type": "execute_result"
    }
   ],
   "source": [
    "out = subprocess.run(view_cmd, shell=True, text=True, capture_output=True).stdout.strip('\\n')\n",
    "out"
   ]
  }
 ],
 "metadata": {
  "kernelspec": {
   "display_name": "Python 3.6.12 64-bit",
   "language": "python",
   "name": "python3"
  },
  "language_info": {
   "codemirror_mode": {
    "name": "ipython",
    "version": 3
   },
   "file_extension": ".py",
   "mimetype": "text/x-python",
   "name": "python",
   "nbconvert_exporter": "python",
   "pygments_lexer": "ipython3",
   "version": "3.6.12"
  },
  "vscode": {
   "interpreter": {
    "hash": "31f2aee4e71d21fbe5cf8b01ff0e069b9275f58929596ceb00d14d90e3e16cd6"
   }
  }
 },
 "nbformat": 4,
 "nbformat_minor": 4
}
