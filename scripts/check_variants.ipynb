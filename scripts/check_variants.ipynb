{
 "cells": [
  {
   "attachments": {},
   "cell_type": "markdown",
   "metadata": {},
   "source": [
    "### Usage: Confirm validity of reference sequences vs vcf files\n",
    "### Author: Temi\n",
    "### Date: Tues Jan 24 2023"
   ]
  },
  {
   "cell_type": "code",
   "execution_count": 3,
   "metadata": {},
   "outputs": [],
   "source": [
    "import os\n",
    "import numpy as np\n",
    "import cyvcf2\n",
    "import kipoiseq\n",
    "import pandas as pd\n",
    "import multiprocessing"
   ]
  },
  {
   "cell_type": "code",
   "execution_count": null,
   "metadata": {},
   "outputs": [],
   "source": []
  },
  {
   "cell_type": "code",
   "execution_count": 5,
   "metadata": {},
   "outputs": [],
   "source": [
    "working_dir = '/grand/covid-ct/imlab/users/temi/projects/TFXcan/scripts/'\n",
    "os.chdir(working_dir)"
   ]
  },
  {
   "cell_type": "code",
   "execution_count": 19,
   "metadata": {},
   "outputs": [],
   "source": [
    "reference_genome = '/grand/covid-ct/imlab/data/hg_sequences/hg38/Homo_sapiens_assembly38.fasta'\n",
    "vcf_file = '../genotypes/prj6_genotypes/merged_phased_SNPs.vcf.gz'"
   ]
  },
  {
   "attachments": {},
   "cell_type": "markdown",
   "metadata": {},
   "source": [
    "Use kipoiseq to read fasta file"
   ]
  },
  {
   "cell_type": "code",
   "execution_count": 6,
   "metadata": {},
   "outputs": [],
   "source": [
    "class FastaStringExtractor:\n",
    "    def __init__(self, fasta_file):\n",
    "        import pyfaidx\n",
    "\n",
    "        self.fasta = pyfaidx.Fasta(fasta_file)\n",
    "        self._chromosome_sizes = {k: len(v) for k, v in self.fasta.items()}\n",
    "\n",
    "    def extract(self, interval, **kwargs) -> str:\n",
    "        # Truncate interval if it extends beyond the chromosome lengths.\n",
    "\n",
    "        import kipoiseq\n",
    "        chromosome_length = self._chromosome_sizes[interval.chrom]\n",
    "        trimmed_interval = kipoiseq.Interval(interval.chrom,\n",
    "                                    max(interval.start, 0),\n",
    "                                    min(interval.end, chromosome_length),\n",
    "                                    )\n",
    "        # pyfaidx wants a 1-based interval\n",
    "        sequence = str(self.fasta.get_seq(trimmed_interval.chrom,\n",
    "                                            trimmed_interval.start + 1,\n",
    "                                            trimmed_interval.stop).seq).upper()\n",
    "        # Fill truncated values with N's.\n",
    "        pad_upstream = 'N' * max(-interval.start, 0)\n",
    "        pad_downstream = 'N' * max(interval.end - chromosome_length, 0)\n",
    "        return pad_upstream + sequence + pad_downstream\n",
    "\n",
    "    def close(self):\n",
    "        return self.fasta.close()"
   ]
  },
  {
   "cell_type": "code",
   "execution_count": 21,
   "metadata": {},
   "outputs": [],
   "source": []
  },
  {
   "attachments": {},
   "cell_type": "markdown",
   "metadata": {},
   "source": [
    "A short snippet"
   ]
  },
  {
   "cell_type": "code",
   "execution_count": 30,
   "metadata": {},
   "outputs": [],
   "source": [
    "region_chr = 'chr1'\n",
    "region_start = 100001\n",
    "region_end = 100009\n",
    "SEQUENCE_LENGTH=len(range(region_start, region_end))"
   ]
  },
  {
   "cell_type": "code",
   "execution_count": 31,
   "metadata": {},
   "outputs": [
    {
     "data": {
      "text/plain": [
       "'CTAAGCAC'"
      ]
     },
     "execution_count": 31,
     "metadata": {},
     "output_type": "execute_result"
    }
   ],
   "source": [
    "reg_interval = kipoiseq.Interval(region_chr, region_start, region_end).resize(SEQUENCE_LENGTH)\n",
    "reference_region = fasta_extractor.extract(interval=reg_interval, anchor=[])\n",
    "reference_region"
   ]
  },
  {
   "attachments": {},
   "cell_type": "markdown",
   "metadata": {},
   "source": [
    "## The experiment"
   ]
  },
  {
   "attachments": {},
   "cell_type": "markdown",
   "metadata": {},
   "source": [
    "Use cyvcf to extract vcf"
   ]
  },
  {
   "attachments": {},
   "cell_type": "markdown",
   "metadata": {},
   "source": [
    "There are currently about 11 million variants in this vcf file\n",
    "\n",
    "For this purpose of this notebook, I will use the top 1 million variants (for memory sake)"
   ]
  },
  {
   "cell_type": "code",
   "execution_count": 59,
   "metadata": {},
   "outputs": [],
   "source": [
    "stop_at = 11000000"
   ]
  },
  {
   "cell_type": "code",
   "execution_count": 60,
   "metadata": {},
   "outputs": [
    {
     "name": "stderr",
     "output_type": "stream",
     "text": [
      "[W::hts_idx_load3] The index file is older than the data file: ../genotypes/prj6_genotypes/merged_phased_SNPs.vcf.gz.tbi\n"
     ]
    }
   ],
   "source": [
    "all_variants = []\n",
    "\n",
    "for i, variant in enumerate(cyvcf2.cyvcf2.VCF(vcf_file)):\n",
    "    if i > stop_at:\n",
    "        break\n",
    "    else:\n",
    "        out = []\n",
    "        out.extend([variant.CHROM, variant.start, variant.end, variant.REF, variant.ALT])\n",
    "        all_variants.append(out)"
   ]
  },
  {
   "attachments": {},
   "cell_type": "markdown",
   "metadata": {},
   "source": [
    "Here is what the output looks like ( I think it went over by one but it does not matter)"
   ]
  },
  {
   "cell_type": "code",
   "execution_count": 61,
   "metadata": {},
   "outputs": [
    {
     "data": {
      "text/plain": [
       "11000001"
      ]
     },
     "execution_count": 61,
     "metadata": {},
     "output_type": "execute_result"
    }
   ],
   "source": [
    "all_variants[0:3] ; len(all_variants)"
   ]
  },
  {
   "attachments": {},
   "cell_type": "markdown",
   "metadata": {},
   "source": [
    "Extract the same regions from the reference genome"
   ]
  },
  {
   "cell_type": "code",
   "execution_count": 62,
   "metadata": {},
   "outputs": [
    {
     "data": {
      "text/plain": [
       "[['chr1', 10247, 10248],\n",
       " ['chr1', 10462, 10463],\n",
       " ['chr1', 10491, 10492],\n",
       " ['chr1', 13272, 13273]]"
      ]
     },
     "execution_count": 62,
     "metadata": {},
     "output_type": "execute_result"
    }
   ],
   "source": [
    "reference_variants_positions = [[v[0], v[1], v[2]] for v in all_variants]\n",
    "reference_variants_positions[1:5]"
   ]
  },
  {
   "cell_type": "code",
   "execution_count": 63,
   "metadata": {},
   "outputs": [
    {
     "data": {
      "text/plain": [
       "11000001"
      ]
     },
     "execution_count": 63,
     "metadata": {},
     "output_type": "execute_result"
    }
   ],
   "source": [
    "len(reference_variants_positions)"
   ]
  },
  {
   "cell_type": "code",
   "execution_count": 64,
   "metadata": {},
   "outputs": [],
   "source": [
    "reference_variants = []\n",
    "for vpos in reference_variants_positions:\n",
    "    slength = len(range(vpos[1], vpos[2]))\n",
    "    reg_interval = kipoiseq.Interval(vpos[0], vpos[1], vpos[2]).resize(slength)\n",
    "    reference_region = fasta_extractor.extract(interval=reg_interval, anchor=[])\n",
    "    reference_variants.append(reference_region)"
   ]
  },
  {
   "attachments": {},
   "cell_type": "markdown",
   "metadata": {},
   "source": [
    "Convert to a string"
   ]
  },
  {
   "cell_type": "code",
   "execution_count": 65,
   "metadata": {},
   "outputs": [],
   "source": [
    "reference_variants = ''.join(reference_variants)"
   ]
  },
  {
   "attachments": {},
   "cell_type": "markdown",
   "metadata": {},
   "source": [
    "Convert the vcf variants to a string too"
   ]
  },
  {
   "cell_type": "code",
   "execution_count": 66,
   "metadata": {},
   "outputs": [],
   "source": [
    "vcf_ref_variants = ''.join([v[3] for v in all_variants])"
   ]
  },
  {
   "attachments": {},
   "cell_type": "markdown",
   "metadata": {},
   "source": [
    "Compare the reference variants with the vcf variants"
   ]
  },
  {
   "cell_type": "code",
   "execution_count": 67,
   "metadata": {},
   "outputs": [
    {
     "data": {
      "text/plain": [
       "True"
      ]
     },
     "execution_count": 67,
     "metadata": {},
     "output_type": "execute_result"
    }
   ],
   "source": [
    "reference_variants == vcf_ref_variants"
   ]
  },
  {
   "cell_type": "code",
   "execution_count": 69,
   "metadata": {},
   "outputs": [
    {
     "data": {
      "text/plain": [
       "(11000001, 11000001)"
      ]
     },
     "execution_count": 69,
     "metadata": {},
     "output_type": "execute_result"
    }
   ],
   "source": [
    "len(reference_variants), len(vcf_ref_variants)"
   ]
  },
  {
   "attachments": {},
   "cell_type": "markdown",
   "metadata": {},
   "source": [
    "They are the same"
   ]
  },
  {
   "cell_type": "code",
   "execution_count": null,
   "metadata": {},
   "outputs": [],
   "source": []
  },
  {
   "attachments": {},
   "cell_type": "markdown",
   "metadata": {},
   "source": [
    "## Here, I extend the above to the GEUVADIS dataset which is split across different chromosomes :("
   ]
  },
  {
   "cell_type": "code",
   "execution_count": 7,
   "metadata": {},
   "outputs": [],
   "source": [
    "reference_genome = '/grand/covid-ct/imlab/data/hg_sequences/hg38/Homo_sapiens_assembly38.fasta'\n",
    "vcf_files_dir = '/grand/covid-ct/imlab/data/GEUVADIS/vcf_snps_only'"
   ]
  },
  {
   "cell_type": "code",
   "execution_count": 8,
   "metadata": {},
   "outputs": [
    {
     "data": {
      "text/plain": [
       "['chr1', 'chr2', 'chr3', 'chr4', 'chr5']"
      ]
     },
     "execution_count": 8,
     "metadata": {},
     "output_type": "execute_result"
    }
   ],
   "source": [
    "chromosomes = [f'chr{i}' for i in list(range(1, 23))]\n",
    "chromosomes.extend(['chrX', 'chrY', 'chrM'])\n",
    "chromosomes[0:5]"
   ]
  },
  {
   "cell_type": "code",
   "execution_count": 9,
   "metadata": {},
   "outputs": [],
   "source": [
    "fasta_extractor = FastaStringExtractor(reference_genome)"
   ]
  },
  {
   "cell_type": "code",
   "execution_count": 10,
   "metadata": {},
   "outputs": [
    {
     "name": "stdout",
     "output_type": "stream",
     "text": [
      "chr1\n",
      "[['chr1', 51478, 51479], ['chr1', 51897, 51898]]\n",
      "    True\n",
      "chr2\n",
      "[['chr2', 10331, 10332], ['chr2', 10373, 10374]]\n",
      "    True\n",
      "chr3\n",
      "[['chr3', 11804, 11805], ['chr3', 11805, 11806]]\n",
      "    True\n",
      "chr4\n",
      "[['chr4', 10430, 10431], ['chr4', 10641, 10642]]\n",
      "    True\n",
      "chr5\n",
      "[['chr5', 11894, 11895], ['chr5', 11950, 11951]]\n",
      "    True\n",
      "chr6\n",
      "[['chr6', 93326, 93327], ['chr6', 118438, 118439]]\n",
      "    True\n",
      "chr7\n",
      "[['chr7', 31442, 31443], ['chr7', 37444, 37445]]\n",
      "    True\n",
      "chr8\n",
      "[['chr8', 71178, 71179], ['chr8', 73416, 73417]]\n",
      "    True\n",
      "chr9\n",
      "[['chr9', 10688, 10689], ['chr9', 10689, 10690]]\n",
      "    True\n",
      "chr10\n",
      "[['chr10', 36096, 36097], ['chr10', 45899, 45900]]\n",
      "    True\n",
      "chr11\n",
      "[['chr11', 128424, 128425], ['chr11', 128428, 128429]]\n",
      "    True\n",
      "chr12\n",
      "[['chr12', 10717, 10718], ['chr12', 11820, 11821]]\n",
      "    True\n",
      "chr13\n",
      "[['chr13', 18171452, 18171453], ['chr13', 18171493, 18171494]]\n",
      "    True\n",
      "chr14\n",
      "[['chr14', 16055979, 16055980], ['chr14', 16055980, 16055981]]\n",
      "    True\n",
      "chr15\n"
     ]
    },
    {
     "ename": "KeyboardInterrupt",
     "evalue": "",
     "output_type": "error",
     "traceback": [
      "\u001b[0;31m---------------------------------------------------------------------------\u001b[0m",
      "\u001b[0;31mKeyboardInterrupt\u001b[0m                         Traceback (most recent call last)",
      "Cell \u001b[0;32mIn [10], line 8\u001b[0m\n\u001b[1;32m      6\u001b[0m \u001b[39mif\u001b[39;00m os\u001b[39m.\u001b[39mpath\u001b[39m.\u001b[39misfile(vcf_f):\n\u001b[1;32m      7\u001b[0m     chr_variants \u001b[39m=\u001b[39m []\n\u001b[0;32m----> 8\u001b[0m     \u001b[39mfor\u001b[39;00m i, variant \u001b[39min\u001b[39;00m \u001b[39menumerate\u001b[39m(cyvcf2\u001b[39m.\u001b[39mcyvcf2\u001b[39m.\u001b[39mVCF(vcf_f)):\n\u001b[1;32m      9\u001b[0m         \u001b[39mif\u001b[39;00m i \u001b[39m>\u001b[39m \u001b[39m5000000\u001b[39m:\n\u001b[1;32m     10\u001b[0m             \u001b[39mbreak\u001b[39;00m\n",
      "\u001b[0;31mKeyboardInterrupt\u001b[0m: "
     ]
    }
   ],
   "source": [
    "variants_status = {}\n",
    "\n",
    "for chr in chromosomes:\n",
    "    print(chr)\n",
    "    vcf_f = f'{vcf_files_dir}/ALL.{chr}.shapeit2_integrated_SNPs_v2a_27022019.GRCh38.phased.vcf.gz'\n",
    "    if os.path.isfile(vcf_f):\n",
    "        chr_variants = []\n",
    "        for i, variant in enumerate(cyvcf2.cyvcf2.VCF(vcf_f)):\n",
    "            if i > 5000000:\n",
    "                break\n",
    "            else:\n",
    "                out = []\n",
    "                out.extend([variant.CHROM, variant.start, variant.end, variant.REF, variant.ALT])\n",
    "                chr_variants.append(out)\n",
    "    \n",
    "    chr_reference_variants_positions = [[v[0], v[1], v[2]] for v in chr_variants]\n",
    "    print(chr_reference_variants_positions[1:3])\n",
    "\n",
    "    chr_reference_variants = []\n",
    "    for vpos in chr_reference_variants_positions:\n",
    "        slength = len(range(vpos[1], vpos[2]))\n",
    "        reg_interval = kipoiseq.Interval(vpos[0], vpos[1], vpos[2]).resize(slength)\n",
    "        reference_region = fasta_extractor.extract(interval=reg_interval, anchor=[])\n",
    "        chr_reference_variants.append(reference_region)\n",
    "\n",
    "    chr_reference_variants = ''.join(chr_reference_variants)\n",
    "    chr_vcf_ref_variants = ''.join([v[3] for v in chr_variants])\n",
    "\n",
    "    status = chr_reference_variants == chr_vcf_ref_variants\n",
    "    print(f'    {status}')\n",
    "\n",
    "    variants_status[chr] = status\n",
    "    "
   ]
  },
  {
   "cell_type": "code",
   "execution_count": null,
   "metadata": {},
   "outputs": [],
   "source": []
  }
 ],
 "metadata": {
  "kernelspec": {
   "display_name": "Python 3",
   "language": "python",
   "name": "python3"
  },
  "language_info": {
   "codemirror_mode": {
    "name": "ipython",
    "version": 3
   },
   "file_extension": ".py",
   "mimetype": "text/x-python",
   "name": "python",
   "nbconvert_exporter": "python",
   "pygments_lexer": "ipython3",
   "version": "3.6.13 (default, Mar 10 2021, 18:30:35) [GCC]"
  },
  "orig_nbformat": 4,
  "vscode": {
   "interpreter": {
    "hash": "31f2aee4e71d21fbe5cf8b01ff0e069b9275f58929596ceb00d14d90e3e16cd6"
   }
  }
 },
 "nbformat": 4,
 "nbformat_minor": 2
}
